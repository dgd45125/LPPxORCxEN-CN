{
 "cells": [
  {
   "cell_type": "code",
   "execution_count": null,
   "id": "c87bbf7f-d5bd-4f2c-a9ab-01ed34784514",
   "metadata": {},
   "outputs": [],
   "source": []
  },
  {
   "cell_type": "markdown",
   "id": "ef1ae98d",
   "metadata": {},
   "source": [
    "## Imports"
   ]
  },
  {
   "cell_type": "code",
   "execution_count": 1,
   "id": "6f84f49a",
   "metadata": {},
   "outputs": [
    {
     "name": "stderr",
     "output_type": "stream",
     "text": [
      "/home/dgd45125/.local/lib/python3.7/site-packages/nilearn/input_data/__init__.py:27: FutureWarning: The import path 'nilearn.input_data' is deprecated in version 0.9. Importing from 'nilearn.input_data' will be possible at least until release 0.13.0. Please import from 'nilearn.maskers' instead.\n",
      "  warnings.warn(message, FutureWarning)\n"
     ]
    }
   ],
   "source": [
    "import pandas as pd\n",
    "\n",
    "import numpy as np\n",
    "\n",
    "from nilearn import plotting\n",
    "from nilearn.glm.first_level import FirstLevelModel\n",
    "from nilearn.glm.second_level import SecondLevelModel\n",
    "from nilearn.image import threshold_img\n",
    "from nilearn.glm import threshold_stats_img\n",
    "from nilearn import surface\n",
    "from nilearn import datasets\n",
    "from nilearn.reporting import get_clusters_table\n",
    "from nilearn.image import resample_to_img\n",
    "from nilearn.input_data import NiftiMasker, NiftiLabelsMasker\n",
    "#from nilearn.maskers import NiftiLabelsMasker\n",
    "\n",
    "import glob\n",
    "\n",
    "from natsort import natsorted\n",
    "\n",
    "import matplotlib.pyplot as plt"
   ]
  },
  {
   "cell_type": "code",
   "execution_count": null,
   "id": "2d43a553",
   "metadata": {},
   "outputs": [],
   "source": []
  },
  {
   "cell_type": "code",
   "execution_count": null,
   "id": "d79f09e3",
   "metadata": {},
   "outputs": [],
   "source": []
  },
  {
   "cell_type": "markdown",
   "id": "e017da33",
   "metadata": {},
   "source": [
    "## Read in the Regressors"
   ]
  },
  {
   "cell_type": "markdown",
   "id": "1842e84b",
   "metadata": {},
   "source": [
    "## Chinese Regressors"
   ]
  },
  {
   "cell_type": "code",
   "execution_count": 8,
   "id": "db5f524a",
   "metadata": {},
   "outputs": [
    {
     "data": {
      "text/html": [
       "<div>\n",
       "<style scoped>\n",
       "    .dataframe tbody tr th:only-of-type {\n",
       "        vertical-align: middle;\n",
       "    }\n",
       "\n",
       "    .dataframe tbody tr th {\n",
       "        vertical-align: top;\n",
       "    }\n",
       "\n",
       "    .dataframe thead th {\n",
       "        text-align: right;\n",
       "    }\n",
       "</style>\n",
       "<table border=\"1\" class=\"dataframe\">\n",
       "  <thead>\n",
       "    <tr style=\"text-align: right;\">\n",
       "      <th></th>\n",
       "      <th>word_rate</th>\n",
       "      <th>rms</th>\n",
       "      <th>freq</th>\n",
       "      <th>f0</th>\n",
       "      <th>obj_relatives</th>\n",
       "      <th>projective_bottomup</th>\n",
       "      <th>chinese_gpt2_surprisal</th>\n",
       "      <th>seman_dim1</th>\n",
       "      <th>seman_dim2</th>\n",
       "      <th>seman_dim3</th>\n",
       "      <th>seman_dim4</th>\n",
       "      <th>seman_dim5</th>\n",
       "      <th>section</th>\n",
       "    </tr>\n",
       "  </thead>\n",
       "  <tbody>\n",
       "    <tr>\n",
       "      <th>0</th>\n",
       "      <td>0.000000</td>\n",
       "      <td>0.000000</td>\n",
       "      <td>0.000000</td>\n",
       "      <td>0.000000</td>\n",
       "      <td>0.002593</td>\n",
       "      <td>0.020244</td>\n",
       "      <td>-0.089760</td>\n",
       "      <td>-0.005528</td>\n",
       "      <td>-0.000417</td>\n",
       "      <td>0.005681</td>\n",
       "      <td>0.001223</td>\n",
       "      <td>0.008384</td>\n",
       "      <td>1</td>\n",
       "    </tr>\n",
       "    <tr>\n",
       "      <th>1</th>\n",
       "      <td>0.003681</td>\n",
       "      <td>0.005161</td>\n",
       "      <td>0.034694</td>\n",
       "      <td>16.586025</td>\n",
       "      <td>0.002482</td>\n",
       "      <td>0.017211</td>\n",
       "      <td>-0.091427</td>\n",
       "      <td>-0.004904</td>\n",
       "      <td>0.000037</td>\n",
       "      <td>0.005609</td>\n",
       "      <td>0.000134</td>\n",
       "      <td>0.008221</td>\n",
       "      <td>1</td>\n",
       "    </tr>\n",
       "    <tr>\n",
       "      <th>2</th>\n",
       "      <td>0.044814</td>\n",
       "      <td>0.062256</td>\n",
       "      <td>0.430535</td>\n",
       "      <td>228.376025</td>\n",
       "      <td>0.001235</td>\n",
       "      <td>0.004095</td>\n",
       "      <td>-0.097853</td>\n",
       "      <td>0.000204</td>\n",
       "      <td>0.005255</td>\n",
       "      <td>0.006613</td>\n",
       "      <td>-0.011601</td>\n",
       "      <td>0.007721</td>\n",
       "      <td>1</td>\n",
       "    </tr>\n",
       "    <tr>\n",
       "      <th>3</th>\n",
       "      <td>0.100376</td>\n",
       "      <td>0.157604</td>\n",
       "      <td>0.955583</td>\n",
       "      <td>594.716556</td>\n",
       "      <td>-0.000449</td>\n",
       "      <td>-0.008063</td>\n",
       "      <td>-0.075665</td>\n",
       "      <td>0.001853</td>\n",
       "      <td>0.008929</td>\n",
       "      <td>0.009952</td>\n",
       "      <td>-0.020627</td>\n",
       "      <td>0.010139</td>\n",
       "      <td>1</td>\n",
       "    </tr>\n",
       "    <tr>\n",
       "      <th>4</th>\n",
       "      <td>0.142764</td>\n",
       "      <td>0.243327</td>\n",
       "      <td>1.327561</td>\n",
       "      <td>866.861677</td>\n",
       "      <td>-0.001734</td>\n",
       "      <td>-0.006474</td>\n",
       "      <td>-0.041610</td>\n",
       "      <td>-0.004170</td>\n",
       "      <td>0.004304</td>\n",
       "      <td>0.012432</td>\n",
       "      <td>-0.013367</td>\n",
       "      <td>0.011784</td>\n",
       "      <td>1</td>\n",
       "    </tr>\n",
       "    <tr>\n",
       "      <th>...</th>\n",
       "      <td>...</td>\n",
       "      <td>...</td>\n",
       "      <td>...</td>\n",
       "      <td>...</td>\n",
       "      <td>...</td>\n",
       "      <td>...</td>\n",
       "      <td>...</td>\n",
       "      <td>...</td>\n",
       "      <td>...</td>\n",
       "      <td>...</td>\n",
       "      <td>...</td>\n",
       "      <td>...</td>\n",
       "      <td>...</td>\n",
       "    </tr>\n",
       "    <tr>\n",
       "      <th>2972</th>\n",
       "      <td>0.088587</td>\n",
       "      <td>0.153884</td>\n",
       "      <td>0.759426</td>\n",
       "      <td>916.973736</td>\n",
       "      <td>-0.000235</td>\n",
       "      <td>-0.001216</td>\n",
       "      <td>-0.009229</td>\n",
       "      <td>-0.007106</td>\n",
       "      <td>0.000495</td>\n",
       "      <td>0.004556</td>\n",
       "      <td>0.004296</td>\n",
       "      <td>-0.002697</td>\n",
       "      <td>9</td>\n",
       "    </tr>\n",
       "    <tr>\n",
       "      <th>2973</th>\n",
       "      <td>0.104723</td>\n",
       "      <td>0.166189</td>\n",
       "      <td>0.920115</td>\n",
       "      <td>874.126927</td>\n",
       "      <td>-0.000447</td>\n",
       "      <td>-0.003501</td>\n",
       "      <td>-0.019401</td>\n",
       "      <td>0.001696</td>\n",
       "      <td>-0.004631</td>\n",
       "      <td>-0.000744</td>\n",
       "      <td>-0.005908</td>\n",
       "      <td>-0.004852</td>\n",
       "      <td>9</td>\n",
       "    </tr>\n",
       "    <tr>\n",
       "      <th>2974</th>\n",
       "      <td>0.130164</td>\n",
       "      <td>0.166403</td>\n",
       "      <td>1.164731</td>\n",
       "      <td>860.597393</td>\n",
       "      <td>-0.000782</td>\n",
       "      <td>-0.003381</td>\n",
       "      <td>-0.033397</td>\n",
       "      <td>0.005717</td>\n",
       "      <td>0.000892</td>\n",
       "      <td>-0.009410</td>\n",
       "      <td>-0.006587</td>\n",
       "      <td>-0.006696</td>\n",
       "      <td>9</td>\n",
       "    </tr>\n",
       "    <tr>\n",
       "      <th>2975</th>\n",
       "      <td>0.148257</td>\n",
       "      <td>0.162883</td>\n",
       "      <td>1.304770</td>\n",
       "      <td>854.366261</td>\n",
       "      <td>-0.001021</td>\n",
       "      <td>-0.000174</td>\n",
       "      <td>-0.061724</td>\n",
       "      <td>0.007645</td>\n",
       "      <td>0.007110</td>\n",
       "      <td>-0.012980</td>\n",
       "      <td>-0.006373</td>\n",
       "      <td>-0.005150</td>\n",
       "      <td>9</td>\n",
       "    </tr>\n",
       "    <tr>\n",
       "      <th>2976</th>\n",
       "      <td>0.152939</td>\n",
       "      <td>0.179186</td>\n",
       "      <td>1.303932</td>\n",
       "      <td>891.937700</td>\n",
       "      <td>-0.001082</td>\n",
       "      <td>0.001223</td>\n",
       "      <td>-0.078890</td>\n",
       "      <td>0.015986</td>\n",
       "      <td>0.005169</td>\n",
       "      <td>-0.017126</td>\n",
       "      <td>-0.014003</td>\n",
       "      <td>-0.004842</td>\n",
       "      <td>9</td>\n",
       "    </tr>\n",
       "  </tbody>\n",
       "</table>\n",
       "<p>2977 rows × 13 columns</p>\n",
       "</div>"
      ],
      "text/plain": [
       "      word_rate       rms      freq          f0  obj_relatives  \\\n",
       "0      0.000000  0.000000  0.000000    0.000000       0.002593   \n",
       "1      0.003681  0.005161  0.034694   16.586025       0.002482   \n",
       "2      0.044814  0.062256  0.430535  228.376025       0.001235   \n",
       "3      0.100376  0.157604  0.955583  594.716556      -0.000449   \n",
       "4      0.142764  0.243327  1.327561  866.861677      -0.001734   \n",
       "...         ...       ...       ...         ...            ...   \n",
       "2972   0.088587  0.153884  0.759426  916.973736      -0.000235   \n",
       "2973   0.104723  0.166189  0.920115  874.126927      -0.000447   \n",
       "2974   0.130164  0.166403  1.164731  860.597393      -0.000782   \n",
       "2975   0.148257  0.162883  1.304770  854.366261      -0.001021   \n",
       "2976   0.152939  0.179186  1.303932  891.937700      -0.001082   \n",
       "\n",
       "      projective_bottomup  chinese_gpt2_surprisal  seman_dim1  seman_dim2  \\\n",
       "0                0.020244               -0.089760   -0.005528   -0.000417   \n",
       "1                0.017211               -0.091427   -0.004904    0.000037   \n",
       "2                0.004095               -0.097853    0.000204    0.005255   \n",
       "3               -0.008063               -0.075665    0.001853    0.008929   \n",
       "4               -0.006474               -0.041610   -0.004170    0.004304   \n",
       "...                   ...                     ...         ...         ...   \n",
       "2972            -0.001216               -0.009229   -0.007106    0.000495   \n",
       "2973            -0.003501               -0.019401    0.001696   -0.004631   \n",
       "2974            -0.003381               -0.033397    0.005717    0.000892   \n",
       "2975            -0.000174               -0.061724    0.007645    0.007110   \n",
       "2976             0.001223               -0.078890    0.015986    0.005169   \n",
       "\n",
       "      seman_dim3  seman_dim4  seman_dim5  section  \n",
       "0       0.005681    0.001223    0.008384        1  \n",
       "1       0.005609    0.000134    0.008221        1  \n",
       "2       0.006613   -0.011601    0.007721        1  \n",
       "3       0.009952   -0.020627    0.010139        1  \n",
       "4       0.012432   -0.013367    0.011784        1  \n",
       "...          ...         ...         ...      ...  \n",
       "2972    0.004556    0.004296   -0.002697        9  \n",
       "2973   -0.000744   -0.005908   -0.004852        9  \n",
       "2974   -0.009410   -0.006587   -0.006696        9  \n",
       "2975   -0.012980   -0.006373   -0.005150        9  \n",
       "2976   -0.017126   -0.014003   -0.004842        9  \n",
       "\n",
       "[2977 rows x 13 columns]"
      ]
     },
     "execution_count": 8,
     "metadata": {},
     "output_type": "execute_result"
    }
   ],
   "source": [
    "chinese_regressors = pd.read_csv('chinese_regressors/lpp_cn_regressors_13Jan2023.tsv',sep = \"\\t\").drop(columns=['subj_relatives','relatives','disc_filler_gap','WH'])\n",
    "chinese_regressors"
   ]
  },
  {
   "cell_type": "code",
   "execution_count": 9,
   "id": "05dce82e",
   "metadata": {},
   "outputs": [
    {
     "name": "stdout",
     "output_type": "stream",
     "text": [
      "283\n",
      "322\n",
      "322\n",
      "307\n",
      "293\n",
      "392\n",
      "364\n",
      "293\n",
      "401\n"
     ]
    }
   ],
   "source": [
    "chinese_regressors = pd.read_csv('chinese_regressors/lpp_cn_regressors_13Jan2023.tsv',sep = \"\\t\").drop(columns=['subj_relatives','relatives','disc_filler_gap','WH'])\n",
    "\n",
    "\n",
    "chinese_regressors1 = chinese_regressors[chinese_regressors.section==1].drop(columns=['section'])\n",
    "chinese_regressors1 = (chinese_regressors1-chinese_regressors1.mean())/chinese_regressors1.std()\n",
    "chinese_regressors1['constant'] = np.ones(len(chinese_regressors1))\n",
    "\n",
    "chinese_regressors2 = chinese_regressors[chinese_regressors.section==2].drop(columns=['section'])\n",
    "chinese_regressors2 = (chinese_regressors2-chinese_regressors2.mean())/chinese_regressors2.std()\n",
    "chinese_regressors2['constant'] = np.ones(len(chinese_regressors2))\n",
    "\n",
    "chinese_regressors3 = chinese_regressors[chinese_regressors.section==3].drop(columns=['section'])\n",
    "chinese_regressors3 = (chinese_regressors3-chinese_regressors3.mean())/chinese_regressors3.std()\n",
    "chinese_regressors3['constant'] = np.ones(len(chinese_regressors3))\n",
    "\n",
    "chinese_regressors4 = chinese_regressors[chinese_regressors.section==4].drop(columns=['section'])\n",
    "chinese_regressors4 = (chinese_regressors4-chinese_regressors4.mean())/chinese_regressors4.std()\n",
    "chinese_regressors4['constant'] = np.ones(len(chinese_regressors4))\n",
    "\n",
    "chinese_regressors5 = chinese_regressors[chinese_regressors.section==5].drop(columns=['section'])\n",
    "chinese_regressors5 = (chinese_regressors5-chinese_regressors5.mean())/chinese_regressors5.std()\n",
    "chinese_regressors5['constant'] = np.ones(len(chinese_regressors5))\n",
    "\n",
    "chinese_regressors6 = chinese_regressors[chinese_regressors.section==6].drop(columns=['section'])\n",
    "chinese_regressors6 = (chinese_regressors6-chinese_regressors6.mean())/chinese_regressors6.std()\n",
    "chinese_regressors6['constant'] = np.ones(len(chinese_regressors6))\n",
    "\n",
    "chinese_regressors7 = chinese_regressors[chinese_regressors.section==7].drop(columns=['section'])\n",
    "chinese_regressors7 = (chinese_regressors7-chinese_regressors7.mean())/chinese_regressors7.std()\n",
    "chinese_regressors7['constant'] = np.ones(len(chinese_regressors7))\n",
    "\n",
    "chinese_regressors8 = chinese_regressors[chinese_regressors.section==8].drop(columns=['section'])\n",
    "chinese_regressors8 = (chinese_regressors8-chinese_regressors8.mean())/chinese_regressors8.std()\n",
    "chinese_regressors8['constant'] = np.ones(len(chinese_regressors8))\n",
    "\n",
    "chinese_regressors9 = chinese_regressors[chinese_regressors.section==9].drop(columns=['section'])\n",
    "chinese_regressors9 = (chinese_regressors9-chinese_regressors9.mean())/chinese_regressors9.std()\n",
    "chinese_regressors9['constant'] = np.ones(len(chinese_regressors9))\n",
    "\n",
    "chinese_design_matrices = [chinese_regressors1,chinese_regressors2,chinese_regressors3,\n",
    "                          chinese_regressors4,chinese_regressors5,chinese_regressors6,\n",
    "                          chinese_regressors7,chinese_regressors8,chinese_regressors9,]\n",
    "\n",
    "for dmx in chinese_design_matrices:\n",
    "    print(len(dmx))"
   ]
  },
  {
   "cell_type": "code",
   "execution_count": 10,
   "id": "f6960eb8",
   "metadata": {},
   "outputs": [
    {
     "name": "stdout",
     "output_type": "stream",
     "text": [
      "2977\n"
     ]
    }
   ],
   "source": [
    "#number of volumes in each section\n",
    "n_chinese_scans = [283,322,322,307,293,392,364,293,401]\n",
    "print(sum(n_chinese_scans))"
   ]
  },
  {
   "cell_type": "code",
   "execution_count": 11,
   "id": "73549763",
   "metadata": {},
   "outputs": [
    {
     "data": {
      "text/plain": [
       "<AxesSubplot:label='conditions', ylabel='scan number'>"
      ]
     },
     "execution_count": 11,
     "metadata": {},
     "output_type": "execute_result"
    },
    {
     "data": {
      "image/png": "[encoded data removed]",
      "text/plain": [
       "<Figure size 287.28x720 with 1 Axes>"
      ]
     },
     "metadata": {
      "needs_background": "light"
     },
     "output_type": "display_data"
    }
   ],
   "source": [
    "plotting.plot_design_matrix(chinese_design_matrices[7])"
   ]
  },
  {
   "cell_type": "code",
   "execution_count": null,
   "id": "66a0c495",
   "metadata": {},
   "outputs": [],
   "source": []
  },
  {
   "cell_type": "markdown",
   "id": "c56d5b3f",
   "metadata": {},
   "source": [
    "## English Regressors"
   ]
  },
  {
   "cell_type": "code",
   "execution_count": 12,
   "id": "904caae7",
   "metadata": {},
   "outputs": [
    {
     "data": {
      "text/html": [
       "<div>\n",
       "<style scoped>\n",
       "    .dataframe tbody tr th:only-of-type {\n",
       "        vertical-align: middle;\n",
       "    }\n",
       "\n",
       "    .dataframe tbody tr th {\n",
       "        vertical-align: top;\n",
       "    }\n",
       "\n",
       "    .dataframe thead th {\n",
       "        text-align: right;\n",
       "    }\n",
       "</style>\n",
       "<table border=\"1\" class=\"dataframe\">\n",
       "  <thead>\n",
       "    <tr style=\"text-align: right;\">\n",
       "      <th></th>\n",
       "      <th>word_rate</th>\n",
       "      <th>rms</th>\n",
       "      <th>freq</th>\n",
       "      <th>f0</th>\n",
       "      <th>obj_relatives</th>\n",
       "      <th>projective_bottomup</th>\n",
       "      <th>gpt2_surprisal</th>\n",
       "      <th>seman_dim1</th>\n",
       "      <th>seman_dim2</th>\n",
       "      <th>seman_dim3</th>\n",
       "      <th>seman_dim4</th>\n",
       "      <th>seman_dim5</th>\n",
       "      <th>section</th>\n",
       "    </tr>\n",
       "  </thead>\n",
       "  <tbody>\n",
       "    <tr>\n",
       "      <th>0</th>\n",
       "      <td>0.000000</td>\n",
       "      <td>0.000000</td>\n",
       "      <td>0.000000</td>\n",
       "      <td>0.000000</td>\n",
       "      <td>0.004363</td>\n",
       "      <td>-0.017272</td>\n",
       "      <td>-0.211151</td>\n",
       "      <td>-0.002426</td>\n",
       "      <td>-0.010510</td>\n",
       "      <td>-0.004658</td>\n",
       "      <td>-0.003323</td>\n",
       "      <td>0.003490</td>\n",
       "      <td>1</td>\n",
       "    </tr>\n",
       "    <tr>\n",
       "      <th>1</th>\n",
       "      <td>0.000647</td>\n",
       "      <td>0.009437</td>\n",
       "      <td>0.004752</td>\n",
       "      <td>10.491500</td>\n",
       "      <td>0.004331</td>\n",
       "      <td>-0.017427</td>\n",
       "      <td>-0.211895</td>\n",
       "      <td>-0.002380</td>\n",
       "      <td>-0.010415</td>\n",
       "      <td>-0.004630</td>\n",
       "      <td>-0.003327</td>\n",
       "      <td>0.003522</td>\n",
       "      <td>1</td>\n",
       "    </tr>\n",
       "    <tr>\n",
       "      <th>2</th>\n",
       "      <td>0.027805</td>\n",
       "      <td>0.145643</td>\n",
       "      <td>0.208735</td>\n",
       "      <td>179.405197</td>\n",
       "      <td>0.002982</td>\n",
       "      <td>-0.021824</td>\n",
       "      <td>-0.228904</td>\n",
       "      <td>-0.002049</td>\n",
       "      <td>-0.007340</td>\n",
       "      <td>-0.003901</td>\n",
       "      <td>-0.005096</td>\n",
       "      <td>0.005960</td>\n",
       "      <td>1</td>\n",
       "    </tr>\n",
       "    <tr>\n",
       "      <th>3</th>\n",
       "      <td>0.079646</td>\n",
       "      <td>0.367299</td>\n",
       "      <td>0.596170</td>\n",
       "      <td>533.032462</td>\n",
       "      <td>0.000407</td>\n",
       "      <td>-0.020417</td>\n",
       "      <td>-0.254466</td>\n",
       "      <td>-0.003281</td>\n",
       "      <td>-0.004792</td>\n",
       "      <td>-0.002048</td>\n",
       "      <td>-0.008120</td>\n",
       "      <td>0.012568</td>\n",
       "      <td>1</td>\n",
       "    </tr>\n",
       "    <tr>\n",
       "      <th>4</th>\n",
       "      <td>0.117950</td>\n",
       "      <td>0.487003</td>\n",
       "      <td>0.849367</td>\n",
       "      <td>805.795838</td>\n",
       "      <td>-0.001496</td>\n",
       "      <td>-0.038469</td>\n",
       "      <td>-0.181909</td>\n",
       "      <td>-0.001954</td>\n",
       "      <td>0.000890</td>\n",
       "      <td>-0.001032</td>\n",
       "      <td>-0.009490</td>\n",
       "      <td>0.007483</td>\n",
       "      <td>1</td>\n",
       "    </tr>\n",
       "    <tr>\n",
       "      <th>...</th>\n",
       "      <td>...</td>\n",
       "      <td>...</td>\n",
       "      <td>...</td>\n",
       "      <td>...</td>\n",
       "      <td>...</td>\n",
       "      <td>...</td>\n",
       "      <td>...</td>\n",
       "      <td>...</td>\n",
       "      <td>...</td>\n",
       "      <td>...</td>\n",
       "      <td>...</td>\n",
       "      <td>...</td>\n",
       "      <td>...</td>\n",
       "    </tr>\n",
       "    <tr>\n",
       "      <th>2811</th>\n",
       "      <td>0.110392</td>\n",
       "      <td>0.435250</td>\n",
       "      <td>0.822411</td>\n",
       "      <td>795.012732</td>\n",
       "      <td>-0.000672</td>\n",
       "      <td>0.049302</td>\n",
       "      <td>-0.047509</td>\n",
       "      <td>-0.002866</td>\n",
       "      <td>-0.005946</td>\n",
       "      <td>0.003170</td>\n",
       "      <td>0.004929</td>\n",
       "      <td>0.006803</td>\n",
       "      <td>9</td>\n",
       "    </tr>\n",
       "    <tr>\n",
       "      <th>2812</th>\n",
       "      <td>0.112029</td>\n",
       "      <td>0.395219</td>\n",
       "      <td>0.842175</td>\n",
       "      <td>768.481156</td>\n",
       "      <td>-0.000683</td>\n",
       "      <td>0.026709</td>\n",
       "      <td>0.011026</td>\n",
       "      <td>-0.004760</td>\n",
       "      <td>-0.009112</td>\n",
       "      <td>0.002615</td>\n",
       "      <td>0.007920</td>\n",
       "      <td>0.008207</td>\n",
       "      <td>9</td>\n",
       "    </tr>\n",
       "    <tr>\n",
       "      <th>2813</th>\n",
       "      <td>0.118791</td>\n",
       "      <td>0.338782</td>\n",
       "      <td>0.917951</td>\n",
       "      <td>671.511479</td>\n",
       "      <td>-0.000729</td>\n",
       "      <td>0.034818</td>\n",
       "      <td>0.103522</td>\n",
       "      <td>-0.008975</td>\n",
       "      <td>-0.010902</td>\n",
       "      <td>0.006388</td>\n",
       "      <td>0.007987</td>\n",
       "      <td>0.013135</td>\n",
       "      <td>9</td>\n",
       "    </tr>\n",
       "    <tr>\n",
       "      <th>2814</th>\n",
       "      <td>0.086186</td>\n",
       "      <td>0.190876</td>\n",
       "      <td>0.690954</td>\n",
       "      <td>393.743804</td>\n",
       "      <td>-0.000507</td>\n",
       "      <td>0.050429</td>\n",
       "      <td>0.047821</td>\n",
       "      <td>-0.009912</td>\n",
       "      <td>-0.012176</td>\n",
       "      <td>0.004963</td>\n",
       "      <td>0.006169</td>\n",
       "      <td>0.013943</td>\n",
       "      <td>9</td>\n",
       "    </tr>\n",
       "    <tr>\n",
       "      <th>2815</th>\n",
       "      <td>0.035157</td>\n",
       "      <td>0.045096</td>\n",
       "      <td>0.296014</td>\n",
       "      <td>109.911132</td>\n",
       "      <td>-0.000159</td>\n",
       "      <td>0.024651</td>\n",
       "      <td>-0.067762</td>\n",
       "      <td>-0.007749</td>\n",
       "      <td>-0.013257</td>\n",
       "      <td>-0.000970</td>\n",
       "      <td>0.004635</td>\n",
       "      <td>0.009934</td>\n",
       "      <td>9</td>\n",
       "    </tr>\n",
       "  </tbody>\n",
       "</table>\n",
       "<p>2816 rows × 13 columns</p>\n",
       "</div>"
      ],
      "text/plain": [
       "      word_rate       rms      freq          f0  obj_relatives  \\\n",
       "0      0.000000  0.000000  0.000000    0.000000       0.004363   \n",
       "1      0.000647  0.009437  0.004752   10.491500       0.004331   \n",
       "2      0.027805  0.145643  0.208735  179.405197       0.002982   \n",
       "3      0.079646  0.367299  0.596170  533.032462       0.000407   \n",
       "4      0.117950  0.487003  0.849367  805.795838      -0.001496   \n",
       "...         ...       ...       ...         ...            ...   \n",
       "2811   0.110392  0.435250  0.822411  795.012732      -0.000672   \n",
       "2812   0.112029  0.395219  0.842175  768.481156      -0.000683   \n",
       "2813   0.118791  0.338782  0.917951  671.511479      -0.000729   \n",
       "2814   0.086186  0.190876  0.690954  393.743804      -0.000507   \n",
       "2815   0.035157  0.045096  0.296014  109.911132      -0.000159   \n",
       "\n",
       "      projective_bottomup  gpt2_surprisal  seman_dim1  seman_dim2  seman_dim3  \\\n",
       "0               -0.017272       -0.211151   -0.002426   -0.010510   -0.004658   \n",
       "1               -0.017427       -0.211895   -0.002380   -0.010415   -0.004630   \n",
       "2               -0.021824       -0.228904   -0.002049   -0.007340   -0.003901   \n",
       "3               -0.020417       -0.254466   -0.003281   -0.004792   -0.002048   \n",
       "4               -0.038469       -0.181909   -0.001954    0.000890   -0.001032   \n",
       "...                   ...             ...         ...         ...         ...   \n",
       "2811             0.049302       -0.047509   -0.002866   -0.005946    0.003170   \n",
       "2812             0.026709        0.011026   -0.004760   -0.009112    0.002615   \n",
       "2813             0.034818        0.103522   -0.008975   -0.010902    0.006388   \n",
       "2814             0.050429        0.047821   -0.009912   -0.012176    0.004963   \n",
       "2815             0.024651       -0.067762   -0.007749   -0.013257   -0.000970   \n",
       "\n",
       "      seman_dim4  seman_dim5  section  \n",
       "0      -0.003323    0.003490        1  \n",
       "1      -0.003327    0.003522        1  \n",
       "2      -0.005096    0.005960        1  \n",
       "3      -0.008120    0.012568        1  \n",
       "4      -0.009490    0.007483        1  \n",
       "...          ...         ...      ...  \n",
       "2811    0.004929    0.006803        9  \n",
       "2812    0.007920    0.008207        9  \n",
       "2813    0.007987    0.013135        9  \n",
       "2814    0.006169    0.013943        9  \n",
       "2815    0.004635    0.009934        9  \n",
       "\n",
       "[2816 rows x 13 columns]"
      ]
     },
     "execution_count": 12,
     "metadata": {},
     "output_type": "execute_result"
    }
   ],
   "source": [
    "english_regressors = pd.read_csv('english_regressors/lpp_en_regressors_12Jan2023.tsv',sep = \"\\t\").drop(columns=['disc_filler_gap','WH'])\n",
    "english_regressors"
   ]
  },
  {
   "cell_type": "code",
   "execution_count": 13,
   "id": "497efdfa",
   "metadata": {},
   "outputs": [
    {
     "name": "stdout",
     "output_type": "stream",
     "text": [
      "282\n",
      "298\n",
      "340\n",
      "303\n",
      "265\n",
      "343\n",
      "325\n",
      "292\n",
      "368\n"
     ]
    }
   ],
   "source": [
    "english_regressors = pd.read_csv('english_regressors/lpp_en_regressors_12Jan2023.tsv',sep = \"\\t\").drop(columns=['disc_filler_gap','WH'])\n",
    "english_regressors['constant'] = np.ones(len(english_regressors))\n",
    "\n",
    "\n",
    "english_regressors1 = english_regressors[english_regressors.section==1].drop(columns=['section'])\n",
    "english_regressors1 = (english_regressors1-english_regressors1.mean())/english_regressors1.std()\n",
    "english_regressors1['constant'] = np.ones(len(english_regressors1))\n",
    "\n",
    "english_regressors2 = english_regressors[english_regressors.section==2].drop(columns=['section'])\n",
    "english_regressors2 = (english_regressors2-english_regressors2.mean())/english_regressors2.std()\n",
    "english_regressors2['constant'] = np.ones(len(english_regressors2))\n",
    "\n",
    "english_regressors3 = english_regressors[english_regressors.section==3].drop(columns=['section'])\n",
    "english_regressors3 = (english_regressors3-english_regressors3.mean())/english_regressors3.std()\n",
    "english_regressors3['constant'] = np.ones(len(english_regressors3))\n",
    "\n",
    "english_regressors4 = english_regressors[english_regressors.section==4].drop(columns=['section'])\n",
    "english_regressors4 = (english_regressors4-english_regressors4.mean())/english_regressors4.std()\n",
    "english_regressors4['constant'] = np.ones(len(english_regressors4))\n",
    "\n",
    "english_regressors5 = english_regressors[english_regressors.section==5].drop(columns=['section'])\n",
    "english_regressors5 = (english_regressors5-english_regressors5.mean())/english_regressors5.std()\n",
    "english_regressors5['constant'] = np.ones(len(english_regressors5))\n",
    "\n",
    "english_regressors6 = english_regressors[english_regressors.section==6].drop(columns=['section'])\n",
    "english_regressors6 = (english_regressors6-english_regressors6.mean())/english_regressors6.std()\n",
    "english_regressors6['constant'] = np.ones(len(english_regressors6))\n",
    "\n",
    "english_regressors7 = english_regressors[english_regressors.section==7].drop(columns=['section'])\n",
    "english_regressors7 = (english_regressors7-english_regressors7.mean())/english_regressors7.std()\n",
    "english_regressors7['constant'] = np.ones(len(english_regressors7))\n",
    "\n",
    "english_regressors8 = english_regressors[english_regressors.section==8].drop(columns=['section'])\n",
    "english_regressors8 = (english_regressors8-english_regressors8.mean())/english_regressors8.std()\n",
    "english_regressors8['constant'] = np.ones(len(english_regressors8))\n",
    "\n",
    "english_regressors9 = english_regressors[english_regressors.section==9].drop(columns=['section'])\n",
    "english_regressors9 = (english_regressors9-english_regressors9.mean())/english_regressors9.std()\n",
    "english_regressors9['constant'] = np.ones(len(english_regressors9))\n",
    "\n",
    "\n",
    "english_design_matrices = [english_regressors1,english_regressors2,english_regressors3,\n",
    "                          english_regressors4,english_regressors5,english_regressors6,\n",
    "                          english_regressors7,english_regressors8,english_regressors9,]\n",
    "\n",
    "for dmx in english_design_matrices:\n",
    "    print(len(dmx))"
   ]
  },
  {
   "cell_type": "code",
   "execution_count": 14,
   "id": "519ccb15",
   "metadata": {},
   "outputs": [
    {
     "name": "stdout",
     "output_type": "stream",
     "text": [
      "2816\n"
     ]
    }
   ],
   "source": [
    "#number of volumes in each section\n",
    "n_english_scans = [282,298,340,303,265,343,325,292,368]\n",
    "print(sum(n_english_scans))"
   ]
  },
  {
   "cell_type": "code",
   "execution_count": 15,
   "id": "bba1c6f3",
   "metadata": {},
   "outputs": [
    {
     "data": {
      "text/plain": [
       "<AxesSubplot:label='conditions', ylabel='scan number'>"
      ]
     },
     "execution_count": 15,
     "metadata": {},
     "output_type": "execute_result"
    },
    {
     "data": {
      "image/png": "[encoded data removed]",
      "text/plain": [
       "<Figure size 287.28x720 with 1 Axes>"
      ]
     },
     "metadata": {
      "needs_background": "light"
     },
     "output_type": "display_data"
    }
   ],
   "source": [
    "plotting.plot_design_matrix(english_design_matrices[8])"
   ]
  },
  {
   "cell_type": "code",
   "execution_count": null,
   "id": "1c618ea7",
   "metadata": {},
   "outputs": [],
   "source": []
  },
  {
   "cell_type": "markdown",
   "id": "8c4dd7d5",
   "metadata": {},
   "source": [
    "## First-Level GLM models"
   ]
  },
  {
   "cell_type": "markdown",
   "id": "5e90f386",
   "metadata": {},
   "source": [
    "## Chinese"
   ]
  },
  {
   "cell_type": "code",
   "execution_count": 16,
   "id": "52a02084",
   "metadata": {},
   "outputs": [
    {
     "data": {
      "text/plain": [
       "['openNeuro_LPP/chinese/subj001',\n",
       " 'openNeuro_LPP/chinese/subj002',\n",
       " 'openNeuro_LPP/chinese/subj003',\n",
       " 'openNeuro_LPP/chinese/subj004',\n",
       " 'openNeuro_LPP/chinese/subj005',\n",
       " 'openNeuro_LPP/chinese/subj006',\n",
       " 'openNeuro_LPP/chinese/subj007',\n",
       " 'openNeuro_LPP/chinese/subj008',\n",
       " 'openNeuro_LPP/chinese/subj009',\n",
       " 'openNeuro_LPP/chinese/subj010',\n",
       " 'openNeuro_LPP/chinese/subj011',\n",
       " 'openNeuro_LPP/chinese/subj013',\n",
       " 'openNeuro_LPP/chinese/subj014',\n",
       " 'openNeuro_LPP/chinese/subj015',\n",
       " 'openNeuro_LPP/chinese/subj016',\n",
       " 'openNeuro_LPP/chinese/subj017',\n",
       " 'openNeuro_LPP/chinese/subj018',\n",
       " 'openNeuro_LPP/chinese/subj019',\n",
       " 'openNeuro_LPP/chinese/subj020',\n",
       " 'openNeuro_LPP/chinese/subj021',\n",
       " 'openNeuro_LPP/chinese/subj022',\n",
       " 'openNeuro_LPP/chinese/subj023',\n",
       " 'openNeuro_LPP/chinese/subj024',\n",
       " 'openNeuro_LPP/chinese/subj025',\n",
       " 'openNeuro_LPP/chinese/subj026',\n",
       " 'openNeuro_LPP/chinese/subj027',\n",
       " 'openNeuro_LPP/chinese/subj028',\n",
       " 'openNeuro_LPP/chinese/subj029',\n",
       " 'openNeuro_LPP/chinese/subj030',\n",
       " 'openNeuro_LPP/chinese/subj031',\n",
       " 'openNeuro_LPP/chinese/subj032',\n",
       " 'openNeuro_LPP/chinese/subj033',\n",
       " 'openNeuro_LPP/chinese/subj034',\n",
       " 'openNeuro_LPP/chinese/subj036',\n",
       " 'openNeuro_LPP/chinese/subj037']"
      ]
     },
     "execution_count": 16,
     "metadata": {},
     "output_type": "execute_result"
    }
   ],
   "source": [
    "chinese_subjects = natsorted(glob.glob(\"openNeuro_LPP/chinese/*\"))\n",
    "chinese_subjects"
   ]
  },
  {
   "cell_type": "code",
   "execution_count": 17,
   "id": "fc06b72a",
   "metadata": {},
   "outputs": [
    {
     "data": {
      "text/plain": [
       "['openNeuro_LPP/chinese/subj001/section04.nii.gz',\n",
       " 'openNeuro_LPP/chinese/subj001/section05.nii.gz',\n",
       " 'openNeuro_LPP/chinese/subj001/section06.nii.gz',\n",
       " 'openNeuro_LPP/chinese/subj001/section07.nii.gz',\n",
       " 'openNeuro_LPP/chinese/subj001/section08.nii.gz',\n",
       " 'openNeuro_LPP/chinese/subj001/section09.nii.gz',\n",
       " 'openNeuro_LPP/chinese/subj001/section10.nii.gz',\n",
       " 'openNeuro_LPP/chinese/subj001/section11.nii.gz',\n",
       " 'openNeuro_LPP/chinese/subj001/section12.nii.gz']"
      ]
     },
     "execution_count": 17,
     "metadata": {},
     "output_type": "execute_result"
    }
   ],
   "source": [
    "natsorted(glob.glob(f\"{chinese_subjects[0]}/*\"))"
   ]
  },
  {
   "cell_type": "code",
   "execution_count": 18,
   "id": "10150536",
   "metadata": {},
   "outputs": [
    {
     "name": "stdout",
     "output_type": "stream",
     "text": [
      "openNeuro_LPP/chinese/subj001\n"
     ]
    },
    {
     "name": "stderr",
     "output_type": "stream",
     "text": [
      "Computing run 1 out of 9 runs (go take a coffee, a big one)\n",
      "/home/dgd45125/.local/lib/python3.7/site-packages/nilearn/glm/first_level/first_level.py:63: UserWarning: Mean values of 0 observed.The data have probably been centered.Scaling might not work as expected\n",
      "  warn('Mean values of 0 observed.'\n",
      "Computing run 2 out of 9 runs (97 seconds remaining)\n",
      "Computing run 3 out of 9 runs (91 seconds remaining)\n",
      "Computing run 4 out of 9 runs (82 seconds remaining)\n",
      "Computing run 5 out of 9 runs (68 seconds remaining)\n",
      "Computing run 6 out of 9 runs (53 seconds remaining)\n",
      "Computing run 7 out of 9 runs (41 seconds remaining)\n",
      "Computing run 8 out of 9 runs (28 seconds remaining)\n",
      "Computing run 9 out of 9 runs (13 seconds remaining)\n",
      "\n",
      "Computation of 9 runs done in 127 seconds\n",
      "\n",
      "/home/dgd45125/.local/lib/python3.7/site-packages/nilearn/glm/first_level/first_level.py:657: UserWarning: One contrast given, assuming it for all 9 runs\n",
      "  warn('One contrast given, assuming it for all %d runs' % n_runs)\n"
     ]
    },
    {
     "name": "stdout",
     "output_type": "stream",
     "text": [
      "openNeuro_LPP/chinese/subj002\n"
     ]
    },
    {
     "name": "stderr",
     "output_type": "stream",
     "text": [
      "Computing run 1 out of 9 runs (go take a coffee, a big one)\n",
      "Computing run 2 out of 9 runs (92 seconds remaining)\n",
      "Computing run 3 out of 9 runs (85 seconds remaining)\n",
      "Computing run 4 out of 9 runs (76 seconds remaining)\n",
      "Computing run 5 out of 9 runs (63 seconds remaining)\n",
      "Computing run 6 out of 9 runs (50 seconds remaining)\n",
      "Computing run 7 out of 9 runs (39 seconds remaining)\n",
      "Computing run 8 out of 9 runs (26 seconds remaining)\n",
      "Computing run 9 out of 9 runs (13 seconds remaining)\n",
      "\n",
      "Computation of 9 runs done in 119 seconds\n",
      "\n"
     ]
    },
    {
     "name": "stdout",
     "output_type": "stream",
     "text": [
      "openNeuro_LPP/chinese/subj003\n"
     ]
    },
    {
     "name": "stderr",
     "output_type": "stream",
     "text": [
      "Computing run 1 out of 9 runs (go take a coffee, a big one)\n",
      "Computing run 2 out of 9 runs (95 seconds remaining)\n",
      "Computing run 3 out of 9 runs (180 seconds remaining)\n",
      "Computing run 4 out of 9 runs (134 seconds remaining)\n",
      "Computing run 5 out of 9 runs (100 seconds remaining)\n",
      "Computing run 6 out of 9 runs (74 seconds remaining)\n",
      "Computing run 7 out of 9 runs (55 seconds remaining)\n",
      "Computing run 8 out of 9 runs (37 seconds remaining)\n",
      "Computing run 9 out of 9 runs (18 seconds remaining)\n",
      "\n",
      "Computation of 9 runs done in 161 seconds\n",
      "\n"
     ]
    },
    {
     "name": "stdout",
     "output_type": "stream",
     "text": [
      "openNeuro_LPP/chinese/subj004\n"
     ]
    },
    {
     "name": "stderr",
     "output_type": "stream",
     "text": [
      "Computing run 1 out of 9 runs (go take a coffee, a big one)\n",
      "Computing run 2 out of 9 runs (102 seconds remaining)\n",
      "Computing run 3 out of 9 runs (97 seconds remaining)\n",
      "Computing run 4 out of 9 runs (83 seconds remaining)\n",
      "Computing run 5 out of 9 runs (69 seconds remaining)\n",
      "Computing run 6 out of 9 runs (55 seconds remaining)\n",
      "Computing run 7 out of 9 runs (43 seconds remaining)\n",
      "Computing run 8 out of 9 runs (29 seconds remaining)\n",
      "Computing run 9 out of 9 runs (14 seconds remaining)\n",
      "\n",
      "Computation of 9 runs done in 133 seconds\n",
      "\n"
     ]
    },
    {
     "name": "stdout",
     "output_type": "stream",
     "text": [
      "openNeuro_LPP/chinese/subj005\n"
     ]
    },
    {
     "name": "stderr",
     "output_type": "stream",
     "text": [
      "Computing run 1 out of 9 runs (go take a coffee, a big one)\n",
      "Computing run 2 out of 9 runs (100 seconds remaining)\n",
      "Computing run 3 out of 9 runs (97 seconds remaining)\n",
      "Computing run 4 out of 9 runs (86 seconds remaining)\n",
      "Computing run 5 out of 9 runs (80 seconds remaining)\n",
      "Computing run 6 out of 9 runs (63 seconds remaining)\n",
      "Computing run 7 out of 9 runs (51 seconds remaining)\n",
      "Computing run 8 out of 9 runs (34 seconds remaining)\n",
      "Computing run 9 out of 9 runs (16 seconds remaining)\n",
      "\n",
      "Computation of 9 runs done in 151 seconds\n",
      "\n"
     ]
    },
    {
     "name": "stdout",
     "output_type": "stream",
     "text": [
      "openNeuro_LPP/chinese/subj006\n"
     ]
    },
    {
     "name": "stderr",
     "output_type": "stream",
     "text": [
      "Computing run 1 out of 9 runs (go take a coffee, a big one)\n",
      "Computing run 2 out of 9 runs (126 seconds remaining)\n",
      "Computing run 3 out of 9 runs (110 seconds remaining)\n",
      "Computing run 4 out of 9 runs (92 seconds remaining)\n",
      "Computing run 5 out of 9 runs (76 seconds remaining)\n",
      "Computing run 6 out of 9 runs (59 seconds remaining)\n",
      "Computing run 7 out of 9 runs (46 seconds remaining)\n",
      "Computing run 8 out of 9 runs (31 seconds remaining)\n",
      "Computing run 9 out of 9 runs (15 seconds remaining)\n",
      "\n",
      "Computation of 9 runs done in 144 seconds\n",
      "\n"
     ]
    },
    {
     "name": "stdout",
     "output_type": "stream",
     "text": [
      "openNeuro_LPP/chinese/subj007\n"
     ]
    },
    {
     "name": "stderr",
     "output_type": "stream",
     "text": [
      "Computing run 1 out of 9 runs (go take a coffee, a big one)\n",
      "Computing run 2 out of 9 runs (98 seconds remaining)\n",
      "Computing run 3 out of 9 runs (107 seconds remaining)\n",
      "Computing run 4 out of 9 runs (95 seconds remaining)\n",
      "Computing run 5 out of 9 runs (78 seconds remaining)\n",
      "Computing run 6 out of 9 runs (63 seconds remaining)\n",
      "Computing run 7 out of 9 runs (50 seconds remaining)\n",
      "Computing run 8 out of 9 runs (33 seconds remaining)\n",
      "Computing run 9 out of 9 runs (16 seconds remaining)\n",
      "\n",
      "Computation of 9 runs done in 153 seconds\n",
      "\n"
     ]
    },
    {
     "name": "stdout",
     "output_type": "stream",
     "text": [
      "openNeuro_LPP/chinese/subj008\n"
     ]
    },
    {
     "name": "stderr",
     "output_type": "stream",
     "text": [
      "Computing run 1 out of 9 runs (go take a coffee, a big one)\n",
      "Computing run 2 out of 9 runs (110 seconds remaining)\n",
      "Computing run 3 out of 9 runs (104 seconds remaining)\n",
      "Computing run 4 out of 9 runs (93 seconds remaining)\n",
      "Computing run 5 out of 9 runs (81 seconds remaining)\n",
      "Computing run 6 out of 9 runs (63 seconds remaining)\n",
      "Computing run 7 out of 9 runs (48 seconds remaining)\n",
      "Computing run 8 out of 9 runs (33 seconds remaining)\n",
      "Computing run 9 out of 9 runs (16 seconds remaining)\n",
      "\n",
      "Computation of 9 runs done in 152 seconds\n",
      "\n"
     ]
    },
    {
     "name": "stdout",
     "output_type": "stream",
     "text": [
      "openNeuro_LPP/chinese/subj009\n"
     ]
    },
    {
     "name": "stderr",
     "output_type": "stream",
     "text": [
      "Computing run 1 out of 9 runs (go take a coffee, a big one)\n",
      "Computing run 2 out of 9 runs (124 seconds remaining)\n",
      "Computing run 3 out of 9 runs (110 seconds remaining)\n",
      "Computing run 4 out of 9 runs (93 seconds remaining)\n",
      "Computing run 5 out of 9 runs (81 seconds remaining)\n",
      "Computing run 6 out of 9 runs (64 seconds remaining)\n",
      "Computing run 7 out of 9 runs (49 seconds remaining)\n",
      "Computing run 8 out of 9 runs (33 seconds remaining)\n",
      "Computing run 9 out of 9 runs (17 seconds remaining)\n",
      "\n",
      "Computation of 9 runs done in 157 seconds\n",
      "\n"
     ]
    },
    {
     "name": "stdout",
     "output_type": "stream",
     "text": [
      "openNeuro_LPP/chinese/subj010\n"
     ]
    },
    {
     "name": "stderr",
     "output_type": "stream",
     "text": [
      "Computing run 1 out of 9 runs (go take a coffee, a big one)\n",
      "Computing run 2 out of 9 runs (121 seconds remaining)\n",
      "Computing run 3 out of 9 runs (112 seconds remaining)\n",
      "Computing run 4 out of 9 runs (103 seconds remaining)\n",
      "Computing run 5 out of 9 runs (85 seconds remaining)\n",
      "Computing run 6 out of 9 runs (69 seconds remaining)\n",
      "Computing run 7 out of 9 runs (53 seconds remaining)\n",
      "Computing run 8 out of 9 runs (35 seconds remaining)\n",
      "Computing run 9 out of 9 runs (17 seconds remaining)\n",
      "\n",
      "Computation of 9 runs done in 161 seconds\n",
      "\n"
     ]
    },
    {
     "name": "stdout",
     "output_type": "stream",
     "text": [
      "openNeuro_LPP/chinese/subj011\n"
     ]
    },
    {
     "name": "stderr",
     "output_type": "stream",
     "text": [
      "Computing run 1 out of 9 runs (go take a coffee, a big one)\n",
      "Computing run 2 out of 9 runs (105 seconds remaining)\n",
      "Computing run 3 out of 9 runs (153 seconds remaining)\n",
      "Computing run 4 out of 9 runs (123 seconds remaining)\n",
      "Computing run 5 out of 9 runs (103 seconds remaining)\n",
      "Computing run 6 out of 9 runs (80 seconds remaining)\n",
      "Computing run 7 out of 9 runs (60 seconds remaining)\n",
      "Computing run 8 out of 9 runs (41 seconds remaining)\n",
      "Computing run 9 out of 9 runs (20 seconds remaining)\n",
      "\n",
      "Computation of 9 runs done in 186 seconds\n",
      "\n"
     ]
    },
    {
     "name": "stdout",
     "output_type": "stream",
     "text": [
      "openNeuro_LPP/chinese/subj013\n"
     ]
    },
    {
     "name": "stderr",
     "output_type": "stream",
     "text": [
      "Computing run 1 out of 9 runs (go take a coffee, a big one)\n",
      "Computing run 2 out of 9 runs (116 seconds remaining)\n",
      "Computing run 3 out of 9 runs (116 seconds remaining)\n",
      "Computing run 4 out of 9 runs (98 seconds remaining)\n",
      "Computing run 5 out of 9 runs (81 seconds remaining)\n",
      "Computing run 6 out of 9 runs (65 seconds remaining)\n",
      "Computing run 7 out of 9 runs (51 seconds remaining)\n",
      "Computing run 8 out of 9 runs (40 seconds remaining)\n",
      "Computing run 9 out of 9 runs (19 seconds remaining)\n",
      "\n",
      "Computation of 9 runs done in 173 seconds\n",
      "\n"
     ]
    },
    {
     "name": "stdout",
     "output_type": "stream",
     "text": [
      "openNeuro_LPP/chinese/subj014\n"
     ]
    },
    {
     "name": "stderr",
     "output_type": "stream",
     "text": [
      "Computing run 1 out of 9 runs (go take a coffee, a big one)\n",
      "Computing run 2 out of 9 runs (118 seconds remaining)\n",
      "Computing run 3 out of 9 runs (109 seconds remaining)\n",
      "Computing run 4 out of 9 runs (100 seconds remaining)\n",
      "Computing run 5 out of 9 runs (84 seconds remaining)\n",
      "Computing run 6 out of 9 runs (65 seconds remaining)\n",
      "Computing run 7 out of 9 runs (50 seconds remaining)\n",
      "Computing run 8 out of 9 runs (34 seconds remaining)\n",
      "Computing run 9 out of 9 runs (16 seconds remaining)\n",
      "\n",
      "Computation of 9 runs done in 153 seconds\n",
      "\n"
     ]
    },
    {
     "name": "stdout",
     "output_type": "stream",
     "text": [
      "openNeuro_LPP/chinese/subj015\n"
     ]
    },
    {
     "name": "stderr",
     "output_type": "stream",
     "text": [
      "Computing run 1 out of 9 runs (go take a coffee, a big one)\n",
      "Computing run 2 out of 9 runs (109 seconds remaining)\n",
      "Computing run 3 out of 9 runs (106 seconds remaining)\n",
      "Computing run 4 out of 9 runs (104 seconds remaining)\n",
      "Computing run 5 out of 9 runs (85 seconds remaining)\n",
      "Computing run 6 out of 9 runs (66 seconds remaining)\n",
      "Computing run 7 out of 9 runs (51 seconds remaining)\n",
      "Computing run 8 out of 9 runs (34 seconds remaining)\n",
      "Computing run 9 out of 9 runs (17 seconds remaining)\n",
      "\n",
      "Computation of 9 runs done in 160 seconds\n",
      "\n"
     ]
    },
    {
     "name": "stdout",
     "output_type": "stream",
     "text": [
      "openNeuro_LPP/chinese/subj016\n"
     ]
    },
    {
     "name": "stderr",
     "output_type": "stream",
     "text": [
      "Computing run 1 out of 9 runs (go take a coffee, a big one)\n",
      "Computing run 2 out of 9 runs (107 seconds remaining)\n",
      "Computing run 3 out of 9 runs (101 seconds remaining)\n",
      "Computing run 4 out of 9 runs (95 seconds remaining)\n",
      "Computing run 5 out of 9 runs (79 seconds remaining)\n",
      "Computing run 6 out of 9 runs (63 seconds remaining)\n",
      "Computing run 7 out of 9 runs (48 seconds remaining)\n",
      "Computing run 8 out of 9 runs (32 seconds remaining)\n",
      "Computing run 9 out of 9 runs (16 seconds remaining)\n",
      "\n",
      "Computation of 9 runs done in 151 seconds\n",
      "\n"
     ]
    },
    {
     "name": "stdout",
     "output_type": "stream",
     "text": [
      "openNeuro_LPP/chinese/subj017\n"
     ]
    },
    {
     "name": "stderr",
     "output_type": "stream",
     "text": [
      "Computing run 1 out of 9 runs (go take a coffee, a big one)\n",
      "Computing run 2 out of 9 runs (117 seconds remaining)\n",
      "Computing run 3 out of 9 runs (116 seconds remaining)\n",
      "Computing run 4 out of 9 runs (102 seconds remaining)\n",
      "Computing run 5 out of 9 runs (84 seconds remaining)\n",
      "Computing run 6 out of 9 runs (67 seconds remaining)\n",
      "Computing run 7 out of 9 runs (52 seconds remaining)\n",
      "Computing run 8 out of 9 runs (35 seconds remaining)\n",
      "Computing run 9 out of 9 runs (17 seconds remaining)\n",
      "\n",
      "Computation of 9 runs done in 159 seconds\n",
      "\n"
     ]
    },
    {
     "name": "stdout",
     "output_type": "stream",
     "text": [
      "openNeuro_LPP/chinese/subj018\n",
      "something went wrong\n",
      "openNeuro_LPP/chinese/subj019\n",
      "something went wrong\n",
      "openNeuro_LPP/chinese/subj020\n"
     ]
    },
    {
     "name": "stderr",
     "output_type": "stream",
     "text": [
      "Computing run 1 out of 9 runs (go take a coffee, a big one)\n",
      "Computing run 2 out of 9 runs (110 seconds remaining)\n",
      "Computing run 3 out of 9 runs (111 seconds remaining)\n",
      "Computing run 4 out of 9 runs (97 seconds remaining)\n",
      "Computing run 5 out of 9 runs (81 seconds remaining)\n",
      "Computing run 6 out of 9 runs (65 seconds remaining)\n",
      "Computing run 7 out of 9 runs (50 seconds remaining)\n",
      "Computing run 8 out of 9 runs (33 seconds remaining)\n",
      "Computing run 9 out of 9 runs (16 seconds remaining)\n",
      "\n",
      "Computation of 9 runs done in 156 seconds\n",
      "\n"
     ]
    },
    {
     "name": "stdout",
     "output_type": "stream",
     "text": [
      "openNeuro_LPP/chinese/subj021\n"
     ]
    },
    {
     "name": "stderr",
     "output_type": "stream",
     "text": [
      "Computing run 1 out of 9 runs (go take a coffee, a big one)\n",
      "Computing run 2 out of 9 runs (111 seconds remaining)\n",
      "Computing run 3 out of 9 runs (107 seconds remaining)\n",
      "Computing run 4 out of 9 runs (95 seconds remaining)\n",
      "Computing run 5 out of 9 runs (79 seconds remaining)\n",
      "Computing run 6 out of 9 runs (63 seconds remaining)\n",
      "Computing run 7 out of 9 runs (49 seconds remaining)\n",
      "Computing run 8 out of 9 runs (34 seconds remaining)\n",
      "Computing run 9 out of 9 runs (17 seconds remaining)\n",
      "\n",
      "Computation of 9 runs done in 156 seconds\n",
      "\n"
     ]
    },
    {
     "name": "stdout",
     "output_type": "stream",
     "text": [
      "openNeuro_LPP/chinese/subj022\n"
     ]
    },
    {
     "name": "stderr",
     "output_type": "stream",
     "text": [
      "Computing run 1 out of 9 runs (go take a coffee, a big one)\n",
      "Computing run 2 out of 9 runs (101 seconds remaining)\n",
      "Computing run 3 out of 9 runs (96 seconds remaining)\n",
      "Computing run 4 out of 9 runs (86 seconds remaining)\n",
      "Computing run 5 out of 9 runs (70 seconds remaining)\n",
      "Computing run 6 out of 9 runs (57 seconds remaining)\n",
      "Computing run 7 out of 9 runs (43 seconds remaining)\n",
      "Computing run 8 out of 9 runs (29 seconds remaining)\n",
      "Computing run 9 out of 9 runs (14 seconds remaining)\n",
      "\n",
      "Computation of 9 runs done in 142 seconds\n",
      "\n"
     ]
    },
    {
     "name": "stdout",
     "output_type": "stream",
     "text": [
      "openNeuro_LPP/chinese/subj023\n"
     ]
    },
    {
     "name": "stderr",
     "output_type": "stream",
     "text": [
      "Computing run 1 out of 9 runs (go take a coffee, a big one)\n",
      "Computing run 2 out of 9 runs (95 seconds remaining)\n",
      "Computing run 3 out of 9 runs (101 seconds remaining)\n",
      "Computing run 4 out of 9 runs (90 seconds remaining)\n",
      "Computing run 5 out of 9 runs (77 seconds remaining)\n",
      "Computing run 6 out of 9 runs (60 seconds remaining)\n",
      "Computing run 7 out of 9 runs (45 seconds remaining)\n",
      "Computing run 8 out of 9 runs (31 seconds remaining)\n",
      "Computing run 9 out of 9 runs (17 seconds remaining)\n",
      "\n",
      "Computation of 9 runs done in 156 seconds\n",
      "\n"
     ]
    },
    {
     "name": "stdout",
     "output_type": "stream",
     "text": [
      "openNeuro_LPP/chinese/subj024\n"
     ]
    },
    {
     "name": "stderr",
     "output_type": "stream",
     "text": [
      "Computing run 1 out of 9 runs (go take a coffee, a big one)\n",
      "Computing run 2 out of 9 runs (107 seconds remaining)\n",
      "Computing run 3 out of 9 runs (107 seconds remaining)\n",
      "Computing run 4 out of 9 runs (92 seconds remaining)\n",
      "Computing run 5 out of 9 runs (76 seconds remaining)\n",
      "Computing run 6 out of 9 runs (60 seconds remaining)\n",
      "Computing run 7 out of 9 runs (48 seconds remaining)\n",
      "Computing run 8 out of 9 runs (32 seconds remaining)\n",
      "Computing run 9 out of 9 runs (16 seconds remaining)\n",
      "\n",
      "Computation of 9 runs done in 148 seconds\n",
      "\n"
     ]
    },
    {
     "name": "stdout",
     "output_type": "stream",
     "text": [
      "openNeuro_LPP/chinese/subj025\n"
     ]
    },
    {
     "name": "stderr",
     "output_type": "stream",
     "text": [
      "Computing run 1 out of 9 runs (go take a coffee, a big one)\n",
      "Computing run 2 out of 9 runs (106 seconds remaining)\n",
      "Computing run 3 out of 9 runs (101 seconds remaining)\n",
      "Computing run 4 out of 9 runs (90 seconds remaining)\n",
      "Computing run 5 out of 9 runs (79 seconds remaining)\n",
      "Computing run 6 out of 9 runs (63 seconds remaining)\n",
      "Computing run 7 out of 9 runs (49 seconds remaining)\n",
      "Computing run 8 out of 9 runs (35 seconds remaining)\n",
      "Computing run 9 out of 9 runs (17 seconds remaining)\n",
      "\n",
      "Computation of 9 runs done in 155 seconds\n",
      "\n"
     ]
    },
    {
     "name": "stdout",
     "output_type": "stream",
     "text": [
      "openNeuro_LPP/chinese/subj026\n"
     ]
    },
    {
     "name": "stderr",
     "output_type": "stream",
     "text": [
      "Computing run 1 out of 9 runs (go take a coffee, a big one)\n",
      "Computing run 2 out of 9 runs (110 seconds remaining)\n",
      "Computing run 3 out of 9 runs (112 seconds remaining)\n",
      "Computing run 4 out of 9 runs (112 seconds remaining)\n",
      "Computing run 5 out of 9 runs (90 seconds remaining)\n",
      "Computing run 6 out of 9 runs (70 seconds remaining)\n",
      "Computing run 7 out of 9 runs (53 seconds remaining)\n",
      "Computing run 8 out of 9 runs (35 seconds remaining)\n",
      "Computing run 9 out of 9 runs (17 seconds remaining)\n",
      "\n",
      "Computation of 9 runs done in 159 seconds\n",
      "\n"
     ]
    },
    {
     "name": "stdout",
     "output_type": "stream",
     "text": [
      "openNeuro_LPP/chinese/subj027\n"
     ]
    },
    {
     "name": "stderr",
     "output_type": "stream",
     "text": [
      "Computing run 1 out of 9 runs (go take a coffee, a big one)\n",
      "Computing run 2 out of 9 runs (102 seconds remaining)\n",
      "Computing run 3 out of 9 runs (97 seconds remaining)\n",
      "Computing run 4 out of 9 runs (85 seconds remaining)\n",
      "Computing run 5 out of 9 runs (73 seconds remaining)\n",
      "Computing run 6 out of 9 runs (61 seconds remaining)\n",
      "Computing run 7 out of 9 runs (50 seconds remaining)\n",
      "Computing run 8 out of 9 runs (34 seconds remaining)\n",
      "Computing run 9 out of 9 runs (17 seconds remaining)\n",
      "\n",
      "Computation of 9 runs done in 154 seconds\n",
      "\n"
     ]
    },
    {
     "name": "stdout",
     "output_type": "stream",
     "text": [
      "openNeuro_LPP/chinese/subj028\n"
     ]
    },
    {
     "name": "stderr",
     "output_type": "stream",
     "text": [
      "Computing run 1 out of 9 runs (go take a coffee, a big one)\n",
      "Computing run 2 out of 9 runs (107 seconds remaining)\n",
      "Computing run 3 out of 9 runs (101 seconds remaining)\n",
      "Computing run 4 out of 9 runs (87 seconds remaining)\n",
      "Computing run 5 out of 9 runs (76 seconds remaining)\n",
      "Computing run 6 out of 9 runs (61 seconds remaining)\n",
      "Computing run 7 out of 9 runs (47 seconds remaining)\n",
      "Computing run 8 out of 9 runs (31 seconds remaining)\n",
      "Computing run 9 out of 9 runs (15 seconds remaining)\n",
      "\n",
      "Computation of 9 runs done in 144 seconds\n",
      "\n"
     ]
    },
    {
     "name": "stdout",
     "output_type": "stream",
     "text": [
      "openNeuro_LPP/chinese/subj029\n"
     ]
    },
    {
     "name": "stderr",
     "output_type": "stream",
     "text": [
      "Computing run 1 out of 9 runs (go take a coffee, a big one)\n",
      "Computing run 2 out of 9 runs (106 seconds remaining)\n",
      "Computing run 3 out of 9 runs (101 seconds remaining)\n",
      "Computing run 4 out of 9 runs (91 seconds remaining)\n",
      "Computing run 5 out of 9 runs (76 seconds remaining)\n",
      "Computing run 6 out of 9 runs (60 seconds remaining)\n",
      "Computing run 7 out of 9 runs (50 seconds remaining)\n",
      "Computing run 8 out of 9 runs (34 seconds remaining)\n",
      "Computing run 9 out of 9 runs (16 seconds remaining)\n",
      "\n",
      "Computation of 9 runs done in 152 seconds\n",
      "\n"
     ]
    },
    {
     "name": "stdout",
     "output_type": "stream",
     "text": [
      "openNeuro_LPP/chinese/subj030\n"
     ]
    },
    {
     "name": "stderr",
     "output_type": "stream",
     "text": [
      "Computing run 1 out of 9 runs (go take a coffee, a big one)\n",
      "Computing run 2 out of 9 runs (95 seconds remaining)\n",
      "Computing run 3 out of 9 runs (91 seconds remaining)\n",
      "Computing run 4 out of 9 runs (83 seconds remaining)\n",
      "Computing run 5 out of 9 runs (76 seconds remaining)\n",
      "Computing run 6 out of 9 runs (63 seconds remaining)\n",
      "Computing run 7 out of 9 runs (49 seconds remaining)\n",
      "Computing run 8 out of 9 runs (33 seconds remaining)\n",
      "Computing run 9 out of 9 runs (16 seconds remaining)\n",
      "\n",
      "Computation of 9 runs done in 152 seconds\n",
      "\n"
     ]
    },
    {
     "name": "stdout",
     "output_type": "stream",
     "text": [
      "openNeuro_LPP/chinese/subj031\n"
     ]
    },
    {
     "name": "stderr",
     "output_type": "stream",
     "text": [
      "Computing run 1 out of 9 runs (go take a coffee, a big one)\n",
      "Computing run 2 out of 9 runs (96 seconds remaining)\n",
      "Computing run 3 out of 9 runs (94 seconds remaining)\n",
      "Computing run 4 out of 9 runs (98 seconds remaining)\n",
      "Computing run 5 out of 9 runs (83 seconds remaining)\n",
      "Computing run 6 out of 9 runs (64 seconds remaining)\n",
      "Computing run 7 out of 9 runs (51 seconds remaining)\n",
      "Computing run 8 out of 9 runs (34 seconds remaining)\n",
      "Computing run 9 out of 9 runs (17 seconds remaining)\n",
      "\n",
      "Computation of 9 runs done in 159 seconds\n",
      "\n"
     ]
    },
    {
     "name": "stdout",
     "output_type": "stream",
     "text": [
      "openNeuro_LPP/chinese/subj032\n"
     ]
    },
    {
     "name": "stderr",
     "output_type": "stream",
     "text": [
      "Computing run 1 out of 9 runs (go take a coffee, a big one)\n",
      "Computing run 2 out of 9 runs (108 seconds remaining)\n",
      "Computing run 3 out of 9 runs (108 seconds remaining)\n",
      "Computing run 4 out of 9 runs (99 seconds remaining)\n",
      "Computing run 5 out of 9 runs (82 seconds remaining)\n",
      "Computing run 6 out of 9 runs (65 seconds remaining)\n",
      "Computing run 7 out of 9 runs (49 seconds remaining)\n",
      "Computing run 8 out of 9 runs (33 seconds remaining)\n",
      "Computing run 9 out of 9 runs (17 seconds remaining)\n",
      "\n",
      "Computation of 9 runs done in 157 seconds\n",
      "\n"
     ]
    },
    {
     "name": "stdout",
     "output_type": "stream",
     "text": [
      "openNeuro_LPP/chinese/subj033\n"
     ]
    },
    {
     "name": "stderr",
     "output_type": "stream",
     "text": [
      "Computing run 1 out of 9 runs (go take a coffee, a big one)\n",
      "Computing run 2 out of 9 runs (114 seconds remaining)\n",
      "Computing run 3 out of 9 runs (126 seconds remaining)\n",
      "Computing run 4 out of 9 runs (124 seconds remaining)\n",
      "Computing run 5 out of 9 runs (98 seconds remaining)\n",
      "Computing run 6 out of 9 runs (79 seconds remaining)\n",
      "Computing run 7 out of 9 runs (60 seconds remaining)\n",
      "Computing run 8 out of 9 runs (40 seconds remaining)\n",
      "Computing run 9 out of 9 runs (20 seconds remaining)\n",
      "\n",
      "Computation of 9 runs done in 183 seconds\n",
      "\n"
     ]
    },
    {
     "name": "stdout",
     "output_type": "stream",
     "text": [
      "openNeuro_LPP/chinese/subj034\n"
     ]
    },
    {
     "name": "stderr",
     "output_type": "stream",
     "text": [
      "Computing run 1 out of 9 runs (go take a coffee, a big one)\n",
      "Computing run 2 out of 9 runs (113 seconds remaining)\n",
      "Computing run 3 out of 9 runs (129 seconds remaining)\n",
      "Computing run 4 out of 9 runs (113 seconds remaining)\n",
      "Computing run 5 out of 9 runs (92 seconds remaining)\n",
      "Computing run 6 out of 9 runs (73 seconds remaining)\n",
      "Computing run 7 out of 9 runs (57 seconds remaining)\n",
      "Computing run 8 out of 9 runs (37 seconds remaining)\n",
      "Computing run 9 out of 9 runs (18 seconds remaining)\n",
      "\n",
      "Computation of 9 runs done in 171 seconds\n",
      "\n"
     ]
    },
    {
     "name": "stdout",
     "output_type": "stream",
     "text": [
      "openNeuro_LPP/chinese/subj036\n"
     ]
    },
    {
     "name": "stderr",
     "output_type": "stream",
     "text": [
      "Computing run 1 out of 9 runs (go take a coffee, a big one)\n",
      "Computing run 2 out of 9 runs (108 seconds remaining)\n",
      "Computing run 3 out of 9 runs (120 seconds remaining)\n",
      "Computing run 4 out of 9 runs (100 seconds remaining)\n",
      "Computing run 5 out of 9 runs (86 seconds remaining)\n",
      "Computing run 6 out of 9 runs (75 seconds remaining)\n",
      "Computing run 7 out of 9 runs (62 seconds remaining)\n",
      "Computing run 8 out of 9 runs (40 seconds remaining)\n",
      "Computing run 9 out of 9 runs (19 seconds remaining)\n",
      "\n",
      "Computation of 9 runs done in 176 seconds\n",
      "\n"
     ]
    },
    {
     "name": "stdout",
     "output_type": "stream",
     "text": [
      "openNeuro_LPP/chinese/subj037\n"
     ]
    },
    {
     "name": "stderr",
     "output_type": "stream",
     "text": [
      "Computing run 1 out of 9 runs (go take a coffee, a big one)\n",
      "Computing run 2 out of 9 runs (110 seconds remaining)\n",
      "Computing run 3 out of 9 runs (105 seconds remaining)\n",
      "Computing run 4 out of 9 runs (92 seconds remaining)\n",
      "Computing run 5 out of 9 runs (78 seconds remaining)\n",
      "Computing run 6 out of 9 runs (66 seconds remaining)\n",
      "Computing run 7 out of 9 runs (51 seconds remaining)\n",
      "Computing run 8 out of 9 runs (34 seconds remaining)\n",
      "Computing run 9 out of 9 runs (17 seconds remaining)\n",
      "\n",
      "Computation of 9 runs done in 162 seconds\n",
      "\n"
     ]
    }
   ],
   "source": [
    "for i in range(len(chinese_subjects)):\n",
    "#for i in range(1):\n",
    "    try:\n",
    "        print(chinese_subjects[i])\n",
    "\n",
    "        chinese_glm = FirstLevelModel(\n",
    "                    t_r = 2.0,\n",
    "                    hrf_model='spm',\n",
    "                    noise_model='ar1',\n",
    "                    smoothing_fwhm=None,\n",
    "                    n_jobs=1,\n",
    "                    standardize=True,\n",
    "                    verbose=1\n",
    "                    )\n",
    "        chinese_glm = chinese_glm.fit(natsorted(glob.glob(f\"{chinese_subjects[i]}/*\")),\n",
    "                                     design_matrices=chinese_design_matrices)\n",
    "\n",
    "        #word_rate_eff_map = chinese_glm.compute_contrast(contrast_def='word_rate',output_type='effect_size')\n",
    "        #word_rate_eff_map.to_filename(f\"/scratch/dgd45125/openNeuro_LPP/first_level_maps/chinese/subj{i}_word_rate.nii.gz\")\n",
    "\n",
    "        #rms_eff_map = chinese_glm.compute_contrast(contrast_def='rms',output_type='effect_size')\n",
    "        #rms_eff_map.to_filename(f\"/scratch/dgd45125/openNeuro_LPP/first_level_maps/chinese/subj{i}_rms.nii.gz\")\n",
    "\n",
    "        #f0_eff_map = chinese_glm.compute_contrast(contrast_def='f0',output_type='effect_size')\n",
    "        #f0_eff_map.to_filename(f\"/scratch/dgd45125/openNeuro_LPP/first_level_maps/chinese/subj{i}_f0.nii.gz\")\n",
    "\n",
    "        \n",
    "        #freq_eff_map = chinese_glm.compute_contrast(contrast_def='freq',output_type='effect_size')\n",
    "        #freq_eff_map.to_filename(f\"/scratch/dgd45125/openNeuro_LPP/first_level_maps/chinese/subj{i}_freq.nii.gz\")\n",
    "\n",
    "        #bottomUp_eff_map = chinese_glm.compute_contrast(contrast_def='projective_bottomup',output_type='effect_size')\n",
    "        #bottomUp_eff_map.to_filename(f\"/scratch/dgd45125/openNeuro_LPP/first_level_maps/chinese/subj{i}_bottomUp.nii.gz\")\n",
    "\n",
    "        \n",
    "        #chinese_surprisal_eff_map = chinese_glm.compute_contrast(contrast_def='chinese_gpt2_surprisal',output_type='effect_size')\n",
    "        #chinese_surprisal_eff_map.to_filename(f\"/scratch/dgd45125/openNeuro_LPP/first_level_maps/chinese/subj{i}_chinese_surprisal.nii.gz\")\n",
    "\n",
    "        obj_relatives_eff_map = chinese_glm.compute_contrast(contrast_def='obj_relatives',output_type='effect_size')\n",
    "        obj_relatives_eff_map.to_filename(f\"/scratch/dgd45125/openNeuro_LPP/first_level_maps/chinese/subj{i}_obj_relatives_eff.nii.gz\")\n",
    "        \n",
    "        \n",
    "\n",
    "    except:\n",
    "        print(\"something went wrong\")"
   ]
  },
  {
   "cell_type": "code",
   "execution_count": null,
   "id": "c2306446",
   "metadata": {},
   "outputs": [],
   "source": []
  },
  {
   "cell_type": "code",
   "execution_count": null,
   "id": "26121732",
   "metadata": {},
   "outputs": [],
   "source": []
  },
  {
   "cell_type": "markdown",
   "id": "192c41ad",
   "metadata": {},
   "source": [
    "## English"
   ]
  },
  {
   "cell_type": "code",
   "execution_count": 21,
   "id": "44974d2c",
   "metadata": {},
   "outputs": [
    {
     "data": {
      "text/plain": [
       "['openNeuro_LPP/english/subj057',\n",
       " 'openNeuro_LPP/english/subj058',\n",
       " 'openNeuro_LPP/english/subj059',\n",
       " 'openNeuro_LPP/english/subj061',\n",
       " 'openNeuro_LPP/english/subj062',\n",
       " 'openNeuro_LPP/english/subj063',\n",
       " 'openNeuro_LPP/english/subj064',\n",
       " 'openNeuro_LPP/english/subj065',\n",
       " 'openNeuro_LPP/english/subj067',\n",
       " 'openNeuro_LPP/english/subj068',\n",
       " 'openNeuro_LPP/english/subj069',\n",
       " 'openNeuro_LPP/english/subj070',\n",
       " 'openNeuro_LPP/english/subj072',\n",
       " 'openNeuro_LPP/english/subj073',\n",
       " 'openNeuro_LPP/english/subj074',\n",
       " 'openNeuro_LPP/english/subj075',\n",
       " 'openNeuro_LPP/english/subj076',\n",
       " 'openNeuro_LPP/english/subj077',\n",
       " 'openNeuro_LPP/english/subj078',\n",
       " 'openNeuro_LPP/english/subj079',\n",
       " 'openNeuro_LPP/english/subj081',\n",
       " 'openNeuro_LPP/english/subj082',\n",
       " 'openNeuro_LPP/english/subj083',\n",
       " 'openNeuro_LPP/english/subj084',\n",
       " 'openNeuro_LPP/english/subj086',\n",
       " 'openNeuro_LPP/english/subj087',\n",
       " 'openNeuro_LPP/english/subj088',\n",
       " 'openNeuro_LPP/english/subj089',\n",
       " 'openNeuro_LPP/english/subj091',\n",
       " 'openNeuro_LPP/english/subj092',\n",
       " 'openNeuro_LPP/english/subj094',\n",
       " 'openNeuro_LPP/english/subj095',\n",
       " 'openNeuro_LPP/english/subj096',\n",
       " 'openNeuro_LPP/english/subj097',\n",
       " 'openNeuro_LPP/english/subj098',\n",
       " 'openNeuro_LPP/english/subj099',\n",
       " 'openNeuro_LPP/english/subj100',\n",
       " 'openNeuro_LPP/english/subj101',\n",
       " 'openNeuro_LPP/english/subj103',\n",
       " 'openNeuro_LPP/english/subj104',\n",
       " 'openNeuro_LPP/english/subj105',\n",
       " 'openNeuro_LPP/english/subj106',\n",
       " 'openNeuro_LPP/english/subj108',\n",
       " 'openNeuro_LPP/english/subj109',\n",
       " 'openNeuro_LPP/english/subj110',\n",
       " 'openNeuro_LPP/english/subj113',\n",
       " 'openNeuro_LPP/english/subj114',\n",
       " 'openNeuro_LPP/english/subj115']"
      ]
     },
     "execution_count": 21,
     "metadata": {},
     "output_type": "execute_result"
    }
   ],
   "source": [
    "english_subjects = natsorted(glob.glob(\"openNeuro_LPP/english/*\"))\n",
    "english_subjects"
   ]
  },
  {
   "cell_type": "code",
   "execution_count": 22,
   "id": "7f9214a1",
   "metadata": {},
   "outputs": [
    {
     "data": {
      "text/plain": [
       "['openNeuro_LPP/english/subj057/section15.nii.gz',\n",
       " 'openNeuro_LPP/english/subj057/section16.nii.gz',\n",
       " 'openNeuro_LPP/english/subj057/section17.nii.gz',\n",
       " 'openNeuro_LPP/english/subj057/section18.nii.gz',\n",
       " 'openNeuro_LPP/english/subj057/section19.nii.gz',\n",
       " 'openNeuro_LPP/english/subj057/section20.nii.gz',\n",
       " 'openNeuro_LPP/english/subj057/section21.nii.gz',\n",
       " 'openNeuro_LPP/english/subj057/section22.nii.gz',\n",
       " 'openNeuro_LPP/english/subj057/section23.nii.gz']"
      ]
     },
     "execution_count": 22,
     "metadata": {},
     "output_type": "execute_result"
    }
   ],
   "source": [
    "natsorted(glob.glob(f\"{english_subjects[0]}/*\"))"
   ]
  },
  {
   "cell_type": "code",
   "execution_count": 23,
   "id": "8acdd114",
   "metadata": {},
   "outputs": [
    {
     "name": "stdout",
     "output_type": "stream",
     "text": [
      "openNeuro_LPP/english/subj057\n"
     ]
    },
    {
     "name": "stderr",
     "output_type": "stream",
     "text": [
      "Computing run 1 out of 9 runs (go take a coffee, a big one)\n",
      "Computing run 2 out of 9 runs (112 seconds remaining)\n",
      "Computing run 3 out of 9 runs (128 seconds remaining)\n",
      "Computing run 4 out of 9 runs (103 seconds remaining)\n",
      "Computing run 5 out of 9 runs (83 seconds remaining)\n",
      "Computing run 6 out of 9 runs (65 seconds remaining)\n",
      "Computing run 7 out of 9 runs (48 seconds remaining)\n",
      "Computing run 8 out of 9 runs (32 seconds remaining)\n",
      "Computing run 9 out of 9 runs (16 seconds remaining)\n",
      "\n",
      "Computation of 9 runs done in 152 seconds\n",
      "\n"
     ]
    },
    {
     "name": "stdout",
     "output_type": "stream",
     "text": [
      "openNeuro_LPP/english/subj058\n"
     ]
    },
    {
     "name": "stderr",
     "output_type": "stream",
     "text": [
      "Computing run 1 out of 9 runs (go take a coffee, a big one)\n",
      "Computing run 2 out of 9 runs (97 seconds remaining)\n",
      "Computing run 3 out of 9 runs (100 seconds remaining)\n",
      "Computing run 4 out of 9 runs (84 seconds remaining)\n",
      "Computing run 5 out of 9 runs (68 seconds remaining)\n",
      "Computing run 6 out of 9 runs (52 seconds remaining)\n",
      "Computing run 7 out of 9 runs (40 seconds remaining)\n",
      "Computing run 8 out of 9 runs (26 seconds remaining)\n",
      "Computing run 9 out of 9 runs (13 seconds remaining)\n",
      "\n",
      "Computation of 9 runs done in 123 seconds\n",
      "\n"
     ]
    },
    {
     "name": "stdout",
     "output_type": "stream",
     "text": [
      "openNeuro_LPP/english/subj059\n"
     ]
    },
    {
     "name": "stderr",
     "output_type": "stream",
     "text": [
      "Computing run 1 out of 9 runs (go take a coffee, a big one)\n",
      "Computing run 2 out of 9 runs (95 seconds remaining)\n",
      "Computing run 3 out of 9 runs (85 seconds remaining)\n",
      "Computing run 4 out of 9 runs (77 seconds remaining)\n",
      "Computing run 5 out of 9 runs (65 seconds remaining)\n",
      "Computing run 6 out of 9 runs (51 seconds remaining)\n",
      "Computing run 7 out of 9 runs (39 seconds remaining)\n",
      "Computing run 8 out of 9 runs (26 seconds remaining)\n",
      "Computing run 9 out of 9 runs (13 seconds remaining)\n",
      "\n",
      "Computation of 9 runs done in 120 seconds\n",
      "\n"
     ]
    },
    {
     "name": "stdout",
     "output_type": "stream",
     "text": [
      "openNeuro_LPP/english/subj061\n"
     ]
    },
    {
     "name": "stderr",
     "output_type": "stream",
     "text": [
      "Computing run 1 out of 9 runs (go take a coffee, a big one)\n",
      "Computing run 2 out of 9 runs (96 seconds remaining)\n",
      "Computing run 3 out of 9 runs (87 seconds remaining)\n",
      "Computing run 4 out of 9 runs (78 seconds remaining)\n",
      "Computing run 5 out of 9 runs (65 seconds remaining)\n",
      "Computing run 6 out of 9 runs (52 seconds remaining)\n",
      "Computing run 7 out of 9 runs (41 seconds remaining)\n",
      "Computing run 8 out of 9 runs (27 seconds remaining)\n",
      "Computing run 9 out of 9 runs (14 seconds remaining)\n",
      "\n",
      "Computation of 9 runs done in 131 seconds\n",
      "\n"
     ]
    },
    {
     "name": "stdout",
     "output_type": "stream",
     "text": [
      "openNeuro_LPP/english/subj062\n"
     ]
    },
    {
     "name": "stderr",
     "output_type": "stream",
     "text": [
      "Computing run 1 out of 9 runs (go take a coffee, a big one)\n",
      "Computing run 2 out of 9 runs (101 seconds remaining)\n",
      "Computing run 3 out of 9 runs (108 seconds remaining)\n",
      "Computing run 4 out of 9 runs (94 seconds remaining)\n",
      "Computing run 5 out of 9 runs (80 seconds remaining)\n",
      "Computing run 6 out of 9 runs (63 seconds remaining)\n",
      "Computing run 7 out of 9 runs (48 seconds remaining)\n",
      "Computing run 8 out of 9 runs (31 seconds remaining)\n",
      "Computing run 9 out of 9 runs (15 seconds remaining)\n",
      "\n",
      "Computation of 9 runs done in 146 seconds\n",
      "\n"
     ]
    },
    {
     "name": "stdout",
     "output_type": "stream",
     "text": [
      "openNeuro_LPP/english/subj063\n"
     ]
    },
    {
     "name": "stderr",
     "output_type": "stream",
     "text": [
      "Computing run 1 out of 9 runs (go take a coffee, a big one)\n",
      "Computing run 2 out of 9 runs (97 seconds remaining)\n",
      "Computing run 3 out of 9 runs (93 seconds remaining)\n",
      "Computing run 4 out of 9 runs (92 seconds remaining)\n",
      "Computing run 5 out of 9 runs (79 seconds remaining)\n",
      "Computing run 6 out of 9 runs (62 seconds remaining)\n",
      "Computing run 7 out of 9 runs (51 seconds remaining)\n",
      "Computing run 8 out of 9 runs (34 seconds remaining)\n",
      "Computing run 9 out of 9 runs (16 seconds remaining)\n",
      "\n",
      "Computation of 9 runs done in 155 seconds\n",
      "\n"
     ]
    },
    {
     "name": "stdout",
     "output_type": "stream",
     "text": [
      "openNeuro_LPP/english/subj064\n"
     ]
    },
    {
     "name": "stderr",
     "output_type": "stream",
     "text": [
      "Computing run 1 out of 9 runs (go take a coffee, a big one)\n",
      "Computing run 2 out of 9 runs (96 seconds remaining)\n",
      "Computing run 3 out of 9 runs (98 seconds remaining)\n",
      "Computing run 4 out of 9 runs (93 seconds remaining)\n",
      "Computing run 5 out of 9 runs (80 seconds remaining)\n",
      "Computing run 6 out of 9 runs (63 seconds remaining)\n",
      "Computing run 7 out of 9 runs (49 seconds remaining)\n",
      "Computing run 8 out of 9 runs (33 seconds remaining)\n",
      "Computing run 9 out of 9 runs (16 seconds remaining)\n",
      "\n",
      "Computation of 9 runs done in 154 seconds\n",
      "\n"
     ]
    },
    {
     "name": "stdout",
     "output_type": "stream",
     "text": [
      "openNeuro_LPP/english/subj065\n"
     ]
    },
    {
     "name": "stderr",
     "output_type": "stream",
     "text": [
      "Computing run 1 out of 9 runs (go take a coffee, a big one)\n",
      "Computing run 2 out of 9 runs (104 seconds remaining)\n",
      "Computing run 3 out of 9 runs (103 seconds remaining)\n",
      "Computing run 4 out of 9 runs (108 seconds remaining)\n",
      "Computing run 5 out of 9 runs (89 seconds remaining)\n",
      "Computing run 6 out of 9 runs (69 seconds remaining)\n",
      "Computing run 7 out of 9 runs (52 seconds remaining)\n",
      "Computing run 8 out of 9 runs (34 seconds remaining)\n",
      "Computing run 9 out of 9 runs (17 seconds remaining)\n",
      "\n",
      "Computation of 9 runs done in 160 seconds\n",
      "\n"
     ]
    },
    {
     "name": "stdout",
     "output_type": "stream",
     "text": [
      "openNeuro_LPP/english/subj067\n"
     ]
    },
    {
     "name": "stderr",
     "output_type": "stream",
     "text": [
      "Computing run 1 out of 9 runs (go take a coffee, a big one)\n",
      "Computing run 2 out of 9 runs (105 seconds remaining)\n",
      "Computing run 3 out of 9 runs (115 seconds remaining)\n",
      "Computing run 4 out of 9 runs (98 seconds remaining)\n",
      "Computing run 5 out of 9 runs (87 seconds remaining)\n",
      "Computing run 6 out of 9 runs (68 seconds remaining)\n",
      "Computing run 7 out of 9 runs (52 seconds remaining)\n",
      "Computing run 8 out of 9 runs (35 seconds remaining)\n",
      "Computing run 9 out of 9 runs (17 seconds remaining)\n",
      "\n",
      "Computation of 9 runs done in 162 seconds\n",
      "\n"
     ]
    },
    {
     "name": "stdout",
     "output_type": "stream",
     "text": [
      "openNeuro_LPP/english/subj068\n"
     ]
    },
    {
     "name": "stderr",
     "output_type": "stream",
     "text": [
      "Computing run 1 out of 9 runs (go take a coffee, a big one)\n",
      "Computing run 2 out of 9 runs (98 seconds remaining)\n",
      "Computing run 3 out of 9 runs (97 seconds remaining)\n",
      "Computing run 4 out of 9 runs (91 seconds remaining)\n",
      "Computing run 5 out of 9 runs (85 seconds remaining)\n",
      "Computing run 6 out of 9 runs (66 seconds remaining)\n",
      "Computing run 7 out of 9 runs (50 seconds remaining)\n",
      "Computing run 8 out of 9 runs (34 seconds remaining)\n",
      "Computing run 9 out of 9 runs (16 seconds remaining)\n",
      "\n",
      "Computation of 9 runs done in 154 seconds\n",
      "\n"
     ]
    },
    {
     "name": "stdout",
     "output_type": "stream",
     "text": [
      "openNeuro_LPP/english/subj069\n"
     ]
    },
    {
     "name": "stderr",
     "output_type": "stream",
     "text": [
      "Computing run 1 out of 9 runs (go take a coffee, a big one)\n",
      "Computing run 2 out of 9 runs (97 seconds remaining)\n",
      "Computing run 3 out of 9 runs (110 seconds remaining)\n",
      "Computing run 4 out of 9 runs (94 seconds remaining)\n",
      "Computing run 5 out of 9 runs (82 seconds remaining)\n",
      "Computing run 6 out of 9 runs (64 seconds remaining)\n",
      "Computing run 7 out of 9 runs (50 seconds remaining)\n",
      "Computing run 8 out of 9 runs (35 seconds remaining)\n",
      "Computing run 9 out of 9 runs (17 seconds remaining)\n",
      "\n",
      "Computation of 9 runs done in 163 seconds\n",
      "\n"
     ]
    },
    {
     "name": "stdout",
     "output_type": "stream",
     "text": [
      "openNeuro_LPP/english/subj070\n"
     ]
    },
    {
     "name": "stderr",
     "output_type": "stream",
     "text": [
      "Computing run 1 out of 9 runs (go take a coffee, a big one)\n",
      "Computing run 2 out of 9 runs (98 seconds remaining)\n",
      "Computing run 3 out of 9 runs (109 seconds remaining)\n",
      "Computing run 4 out of 9 runs (94 seconds remaining)\n",
      "Computing run 5 out of 9 runs (77 seconds remaining)\n",
      "Computing run 6 out of 9 runs (60 seconds remaining)\n",
      "Computing run 7 out of 9 runs (46 seconds remaining)\n",
      "Computing run 8 out of 9 runs (32 seconds remaining)\n",
      "Computing run 9 out of 9 runs (16 seconds remaining)\n",
      "\n",
      "Computation of 9 runs done in 148 seconds\n",
      "\n"
     ]
    },
    {
     "name": "stdout",
     "output_type": "stream",
     "text": [
      "openNeuro_LPP/english/subj072\n"
     ]
    },
    {
     "name": "stderr",
     "output_type": "stream",
     "text": [
      "Computing run 1 out of 9 runs (go take a coffee, a big one)\n",
      "Computing run 2 out of 9 runs (110 seconds remaining)\n",
      "Computing run 3 out of 9 runs (110 seconds remaining)\n",
      "Computing run 4 out of 9 runs (99 seconds remaining)\n",
      "Computing run 5 out of 9 runs (81 seconds remaining)\n",
      "Computing run 6 out of 9 runs (62 seconds remaining)\n",
      "Computing run 7 out of 9 runs (50 seconds remaining)\n",
      "Computing run 8 out of 9 runs (35 seconds remaining)\n",
      "Computing run 9 out of 9 runs (18 seconds remaining)\n",
      "\n",
      "Computation of 9 runs done in 164 seconds\n",
      "\n"
     ]
    },
    {
     "name": "stdout",
     "output_type": "stream",
     "text": [
      "openNeuro_LPP/english/subj073\n"
     ]
    },
    {
     "name": "stderr",
     "output_type": "stream",
     "text": [
      "Computing run 1 out of 9 runs (go take a coffee, a big one)\n",
      "Computing run 2 out of 9 runs (108 seconds remaining)\n",
      "Computing run 3 out of 9 runs (105 seconds remaining)\n",
      "Computing run 4 out of 9 runs (93 seconds remaining)\n",
      "Computing run 5 out of 9 runs (76 seconds remaining)\n",
      "Computing run 6 out of 9 runs (59 seconds remaining)\n",
      "Computing run 7 out of 9 runs (44 seconds remaining)\n",
      "Computing run 8 out of 9 runs (30 seconds remaining)\n",
      "Computing run 9 out of 9 runs (15 seconds remaining)\n",
      "\n",
      "Computation of 9 runs done in 138 seconds\n",
      "\n"
     ]
    },
    {
     "name": "stdout",
     "output_type": "stream",
     "text": [
      "openNeuro_LPP/english/subj074\n"
     ]
    },
    {
     "name": "stderr",
     "output_type": "stream",
     "text": [
      "Computing run 1 out of 9 runs (go take a coffee, a big one)\n",
      "Computing run 2 out of 9 runs (98 seconds remaining)\n",
      "Computing run 3 out of 9 runs (91 seconds remaining)\n",
      "Computing run 4 out of 9 runs (80 seconds remaining)\n",
      "Computing run 5 out of 9 runs (66 seconds remaining)\n",
      "Computing run 6 out of 9 runs (52 seconds remaining)\n",
      "Computing run 7 out of 9 runs (39 seconds remaining)\n",
      "Computing run 8 out of 9 runs (26 seconds remaining)\n",
      "Computing run 9 out of 9 runs (13 seconds remaining)\n",
      "\n",
      "Computation of 9 runs done in 123 seconds\n",
      "\n"
     ]
    },
    {
     "name": "stdout",
     "output_type": "stream",
     "text": [
      "openNeuro_LPP/english/subj075\n"
     ]
    },
    {
     "name": "stderr",
     "output_type": "stream",
     "text": [
      "Computing run 1 out of 9 runs (go take a coffee, a big one)\n",
      "Computing run 2 out of 9 runs (93 seconds remaining)\n",
      "Computing run 3 out of 9 runs (88 seconds remaining)\n",
      "Computing run 4 out of 9 runs (79 seconds remaining)\n",
      "Computing run 5 out of 9 runs (66 seconds remaining)\n",
      "Computing run 6 out of 9 runs (51 seconds remaining)\n",
      "Computing run 7 out of 9 runs (39 seconds remaining)\n",
      "Computing run 8 out of 9 runs (26 seconds remaining)\n",
      "Computing run 9 out of 9 runs (13 seconds remaining)\n",
      "\n",
      "Computation of 9 runs done in 120 seconds\n",
      "\n"
     ]
    },
    {
     "name": "stdout",
     "output_type": "stream",
     "text": [
      "openNeuro_LPP/english/subj076\n"
     ]
    },
    {
     "name": "stderr",
     "output_type": "stream",
     "text": [
      "Computing run 1 out of 9 runs (go take a coffee, a big one)\n",
      "Computing run 2 out of 9 runs (93 seconds remaining)\n",
      "Computing run 3 out of 9 runs (95 seconds remaining)\n",
      "Computing run 4 out of 9 runs (84 seconds remaining)\n",
      "Computing run 5 out of 9 runs (76 seconds remaining)\n",
      "Computing run 6 out of 9 runs (59 seconds remaining)\n",
      "Computing run 7 out of 9 runs (44 seconds remaining)\n",
      "Computing run 8 out of 9 runs (34 seconds remaining)\n",
      "Computing run 9 out of 9 runs (16 seconds remaining)\n",
      "\n",
      "Computation of 9 runs done in 151 seconds\n",
      "\n"
     ]
    },
    {
     "name": "stdout",
     "output_type": "stream",
     "text": [
      "openNeuro_LPP/english/subj077\n"
     ]
    },
    {
     "name": "stderr",
     "output_type": "stream",
     "text": [
      "Computing run 1 out of 9 runs (go take a coffee, a big one)\n",
      "Computing run 2 out of 9 runs (93 seconds remaining)\n",
      "Computing run 3 out of 9 runs (93 seconds remaining)\n",
      "Computing run 4 out of 9 runs (83 seconds remaining)\n",
      "Computing run 5 out of 9 runs (70 seconds remaining)\n",
      "Computing run 6 out of 9 runs (55 seconds remaining)\n",
      "Computing run 7 out of 9 runs (43 seconds remaining)\n",
      "Computing run 8 out of 9 runs (30 seconds remaining)\n",
      "Computing run 9 out of 9 runs (15 seconds remaining)\n",
      "\n",
      "Computation of 9 runs done in 140 seconds\n",
      "\n"
     ]
    },
    {
     "name": "stdout",
     "output_type": "stream",
     "text": [
      "openNeuro_LPP/english/subj078\n"
     ]
    },
    {
     "name": "stderr",
     "output_type": "stream",
     "text": [
      "Computing run 1 out of 9 runs (go take a coffee, a big one)\n",
      "Computing run 2 out of 9 runs (111 seconds remaining)\n",
      "Computing run 3 out of 9 runs (108 seconds remaining)\n",
      "Computing run 4 out of 9 runs (98 seconds remaining)\n",
      "Computing run 5 out of 9 runs (79 seconds remaining)\n",
      "Computing run 6 out of 9 runs (63 seconds remaining)\n",
      "Computing run 7 out of 9 runs (48 seconds remaining)\n",
      "Computing run 8 out of 9 runs (31 seconds remaining)\n",
      "Computing run 9 out of 9 runs (15 seconds remaining)\n",
      "\n",
      "Computation of 9 runs done in 144 seconds\n",
      "\n"
     ]
    },
    {
     "name": "stdout",
     "output_type": "stream",
     "text": [
      "openNeuro_LPP/english/subj079\n"
     ]
    },
    {
     "name": "stderr",
     "output_type": "stream",
     "text": [
      "Computing run 1 out of 9 runs (go take a coffee, a big one)\n",
      "Computing run 2 out of 9 runs (105 seconds remaining)\n",
      "Computing run 3 out of 9 runs (99 seconds remaining)\n",
      "Computing run 4 out of 9 runs (102 seconds remaining)\n",
      "Computing run 5 out of 9 runs (85 seconds remaining)\n",
      "Computing run 6 out of 9 runs (65 seconds remaining)\n",
      "Computing run 7 out of 9 runs (49 seconds remaining)\n",
      "Computing run 8 out of 9 runs (33 seconds remaining)\n",
      "Computing run 9 out of 9 runs (16 seconds remaining)\n",
      "\n",
      "Computation of 9 runs done in 156 seconds\n",
      "\n"
     ]
    },
    {
     "name": "stdout",
     "output_type": "stream",
     "text": [
      "openNeuro_LPP/english/subj081\n"
     ]
    },
    {
     "name": "stderr",
     "output_type": "stream",
     "text": [
      "Computing run 1 out of 9 runs (go take a coffee, a big one)\n",
      "Computing run 2 out of 9 runs (97 seconds remaining)\n",
      "Computing run 3 out of 9 runs (96 seconds remaining)\n",
      "Computing run 4 out of 9 runs (101 seconds remaining)\n",
      "Computing run 5 out of 9 runs (86 seconds remaining)\n",
      "Computing run 6 out of 9 runs (72 seconds remaining)\n",
      "Computing run 7 out of 9 runs (53 seconds remaining)\n",
      "Computing run 8 out of 9 runs (36 seconds remaining)\n",
      "Computing run 9 out of 9 runs (19 seconds remaining)\n",
      "\n",
      "Computation of 9 runs done in 195 seconds\n",
      "\n"
     ]
    },
    {
     "name": "stdout",
     "output_type": "stream",
     "text": [
      "openNeuro_LPP/english/subj082\n"
     ]
    },
    {
     "name": "stderr",
     "output_type": "stream",
     "text": [
      "Computing run 1 out of 9 runs (go take a coffee, a big one)\n",
      "Computing run 2 out of 9 runs (108 seconds remaining)\n",
      "Computing run 3 out of 9 runs (95 seconds remaining)\n",
      "Computing run 4 out of 9 runs (88 seconds remaining)\n",
      "Computing run 5 out of 9 runs (76 seconds remaining)\n",
      "Computing run 6 out of 9 runs (58 seconds remaining)\n",
      "Computing run 7 out of 9 runs (45 seconds remaining)\n",
      "Computing run 8 out of 9 runs (30 seconds remaining)\n",
      "Computing run 9 out of 9 runs (14 seconds remaining)\n",
      "\n",
      "Computation of 9 runs done in 145 seconds\n",
      "\n"
     ]
    },
    {
     "name": "stdout",
     "output_type": "stream",
     "text": [
      "openNeuro_LPP/english/subj083\n"
     ]
    },
    {
     "name": "stderr",
     "output_type": "stream",
     "text": [
      "Computing run 1 out of 9 runs (go take a coffee, a big one)\n",
      "Computing run 2 out of 9 runs (118 seconds remaining)\n",
      "Computing run 3 out of 9 runs (114 seconds remaining)\n",
      "Computing run 4 out of 9 runs (107 seconds remaining)\n",
      "Computing run 5 out of 9 runs (90 seconds remaining)\n",
      "Computing run 6 out of 9 runs (76 seconds remaining)\n",
      "Computing run 7 out of 9 runs (56 seconds remaining)\n",
      "Computing run 8 out of 9 runs (37 seconds remaining)\n",
      "Computing run 9 out of 9 runs (18 seconds remaining)\n",
      "\n",
      "Computation of 9 runs done in 170 seconds\n",
      "\n"
     ]
    },
    {
     "name": "stdout",
     "output_type": "stream",
     "text": [
      "openNeuro_LPP/english/subj084\n"
     ]
    },
    {
     "name": "stderr",
     "output_type": "stream",
     "text": [
      "Computing run 1 out of 9 runs (go take a coffee, a big one)\n",
      "Computing run 2 out of 9 runs (107 seconds remaining)\n",
      "Computing run 3 out of 9 runs (99 seconds remaining)\n",
      "Computing run 4 out of 9 runs (89 seconds remaining)\n",
      "Computing run 5 out of 9 runs (75 seconds remaining)\n",
      "Computing run 6 out of 9 runs (61 seconds remaining)\n",
      "Computing run 7 out of 9 runs (47 seconds remaining)\n",
      "Computing run 8 out of 9 runs (33 seconds remaining)\n",
      "Computing run 9 out of 9 runs (16 seconds remaining)\n",
      "\n",
      "Computation of 9 runs done in 153 seconds\n",
      "\n"
     ]
    },
    {
     "name": "stdout",
     "output_type": "stream",
     "text": [
      "openNeuro_LPP/english/subj086\n"
     ]
    },
    {
     "name": "stderr",
     "output_type": "stream",
     "text": [
      "Computing run 1 out of 9 runs (go take a coffee, a big one)\n",
      "Computing run 2 out of 9 runs (90 seconds remaining)\n",
      "Computing run 3 out of 9 runs (84 seconds remaining)\n",
      "Computing run 4 out of 9 runs (79 seconds remaining)\n",
      "Computing run 5 out of 9 runs (70 seconds remaining)\n",
      "Computing run 6 out of 9 runs (54 seconds remaining)\n",
      "Computing run 7 out of 9 runs (41 seconds remaining)\n",
      "Computing run 8 out of 9 runs (28 seconds remaining)\n",
      "Computing run 9 out of 9 runs (13 seconds remaining)\n",
      "\n",
      "Computation of 9 runs done in 126 seconds\n",
      "\n"
     ]
    },
    {
     "name": "stdout",
     "output_type": "stream",
     "text": [
      "openNeuro_LPP/english/subj087\n"
     ]
    },
    {
     "name": "stderr",
     "output_type": "stream",
     "text": [
      "Computing run 1 out of 9 runs (go take a coffee, a big one)\n",
      "Computing run 2 out of 9 runs (90 seconds remaining)\n",
      "Computing run 3 out of 9 runs (84 seconds remaining)\n",
      "Computing run 4 out of 9 runs (75 seconds remaining)\n",
      "Computing run 5 out of 9 runs (63 seconds remaining)\n",
      "Computing run 6 out of 9 runs (50 seconds remaining)\n",
      "Computing run 7 out of 9 runs (40 seconds remaining)\n",
      "Computing run 8 out of 9 runs (27 seconds remaining)\n",
      "Computing run 9 out of 9 runs (13 seconds remaining)\n",
      "\n",
      "Computation of 9 runs done in 127 seconds\n",
      "\n"
     ]
    },
    {
     "name": "stdout",
     "output_type": "stream",
     "text": [
      "openNeuro_LPP/english/subj088\n"
     ]
    },
    {
     "name": "stderr",
     "output_type": "stream",
     "text": [
      "Computing run 1 out of 9 runs (go take a coffee, a big one)\n",
      "Computing run 2 out of 9 runs (91 seconds remaining)\n",
      "Computing run 3 out of 9 runs (83 seconds remaining)\n",
      "Computing run 4 out of 9 runs (79 seconds remaining)\n",
      "Computing run 5 out of 9 runs (68 seconds remaining)\n",
      "Computing run 6 out of 9 runs (55 seconds remaining)\n",
      "Computing run 7 out of 9 runs (42 seconds remaining)\n",
      "Computing run 8 out of 9 runs (28 seconds remaining)\n",
      "Computing run 9 out of 9 runs (14 seconds remaining)\n",
      "\n",
      "Computation of 9 runs done in 131 seconds\n",
      "\n"
     ]
    },
    {
     "name": "stdout",
     "output_type": "stream",
     "text": [
      "openNeuro_LPP/english/subj089\n"
     ]
    },
    {
     "name": "stderr",
     "output_type": "stream",
     "text": [
      "Computing run 1 out of 9 runs (go take a coffee, a big one)\n",
      "Computing run 2 out of 9 runs (98 seconds remaining)\n",
      "Computing run 3 out of 9 runs (110 seconds remaining)\n",
      "Computing run 4 out of 9 runs (101 seconds remaining)\n",
      "Computing run 5 out of 9 runs (81 seconds remaining)\n",
      "Computing run 6 out of 9 runs (62 seconds remaining)\n",
      "Computing run 7 out of 9 runs (46 seconds remaining)\n",
      "Computing run 8 out of 9 runs (30 seconds remaining)\n",
      "Computing run 9 out of 9 runs (15 seconds remaining)\n",
      "\n",
      "Computation of 9 runs done in 149 seconds\n",
      "\n"
     ]
    },
    {
     "name": "stdout",
     "output_type": "stream",
     "text": [
      "openNeuro_LPP/english/subj091\n"
     ]
    },
    {
     "name": "stderr",
     "output_type": "stream",
     "text": [
      "Computing run 1 out of 9 runs (go take a coffee, a big one)\n",
      "Computing run 2 out of 9 runs (109 seconds remaining)\n",
      "Computing run 3 out of 9 runs (123 seconds remaining)\n",
      "Computing run 4 out of 9 runs (114 seconds remaining)\n",
      "Computing run 5 out of 9 runs (91 seconds remaining)\n",
      "Computing run 6 out of 9 runs (69 seconds remaining)\n",
      "Computing run 7 out of 9 runs (52 seconds remaining)\n",
      "Computing run 8 out of 9 runs (37 seconds remaining)\n",
      "Computing run 9 out of 9 runs (18 seconds remaining)\n",
      "\n",
      "Computation of 9 runs done in 169 seconds\n",
      "\n"
     ]
    },
    {
     "name": "stdout",
     "output_type": "stream",
     "text": [
      "openNeuro_LPP/english/subj092\n"
     ]
    },
    {
     "name": "stderr",
     "output_type": "stream",
     "text": [
      "Computing run 1 out of 9 runs (go take a coffee, a big one)\n",
      "Computing run 2 out of 9 runs (105 seconds remaining)\n",
      "Computing run 3 out of 9 runs (105 seconds remaining)\n",
      "Computing run 4 out of 9 runs (99 seconds remaining)\n",
      "Computing run 5 out of 9 runs (82 seconds remaining)\n",
      "Computing run 6 out of 9 runs (64 seconds remaining)\n",
      "Computing run 7 out of 9 runs (49 seconds remaining)\n",
      "Computing run 8 out of 9 runs (33 seconds remaining)\n",
      "Computing run 9 out of 9 runs (16 seconds remaining)\n",
      "\n",
      "Computation of 9 runs done in 147 seconds\n",
      "\n"
     ]
    },
    {
     "name": "stdout",
     "output_type": "stream",
     "text": [
      "openNeuro_LPP/english/subj094\n"
     ]
    },
    {
     "name": "stderr",
     "output_type": "stream",
     "text": [
      "Computing run 1 out of 9 runs (go take a coffee, a big one)\n",
      "Computing run 2 out of 9 runs (112 seconds remaining)\n",
      "Computing run 3 out of 9 runs (112 seconds remaining)\n",
      "Computing run 4 out of 9 runs (100 seconds remaining)\n",
      "Computing run 5 out of 9 runs (88 seconds remaining)\n",
      "Computing run 6 out of 9 runs (70 seconds remaining)\n",
      "Computing run 7 out of 9 runs (55 seconds remaining)\n",
      "Computing run 8 out of 9 runs (37 seconds remaining)\n",
      "Computing run 9 out of 9 runs (18 seconds remaining)\n",
      "\n",
      "Computation of 9 runs done in 165 seconds\n",
      "\n"
     ]
    },
    {
     "name": "stdout",
     "output_type": "stream",
     "text": [
      "openNeuro_LPP/english/subj095\n"
     ]
    },
    {
     "name": "stderr",
     "output_type": "stream",
     "text": [
      "Computing run 1 out of 9 runs (go take a coffee, a big one)\n",
      "Computing run 2 out of 9 runs (101 seconds remaining)\n",
      "Computing run 3 out of 9 runs (115 seconds remaining)\n",
      "Computing run 4 out of 9 runs (105 seconds remaining)\n",
      "Computing run 5 out of 9 runs (90 seconds remaining)\n",
      "Computing run 6 out of 9 runs (69 seconds remaining)\n",
      "Computing run 7 out of 9 runs (54 seconds remaining)\n",
      "Computing run 8 out of 9 runs (36 seconds remaining)\n",
      "Computing run 9 out of 9 runs (17 seconds remaining)\n",
      "\n",
      "Computation of 9 runs done in 171 seconds\n",
      "\n"
     ]
    },
    {
     "name": "stdout",
     "output_type": "stream",
     "text": [
      "openNeuro_LPP/english/subj096\n"
     ]
    },
    {
     "name": "stderr",
     "output_type": "stream",
     "text": [
      "Computing run 1 out of 9 runs (go take a coffee, a big one)\n",
      "Computing run 2 out of 9 runs (104 seconds remaining)\n",
      "Computing run 3 out of 9 runs (98 seconds remaining)\n",
      "Computing run 4 out of 9 runs (113 seconds remaining)\n",
      "Computing run 5 out of 9 runs (93 seconds remaining)\n",
      "Computing run 6 out of 9 runs (71 seconds remaining)\n",
      "Computing run 7 out of 9 runs (59 seconds remaining)\n",
      "Computing run 8 out of 9 runs (38 seconds remaining)\n",
      "Computing run 9 out of 9 runs (18 seconds remaining)\n",
      "\n",
      "Computation of 9 runs done in 169 seconds\n",
      "\n"
     ]
    },
    {
     "name": "stdout",
     "output_type": "stream",
     "text": [
      "openNeuro_LPP/english/subj097\n"
     ]
    },
    {
     "name": "stderr",
     "output_type": "stream",
     "text": [
      "Computing run 1 out of 9 runs (go take a coffee, a big one)\n",
      "Computing run 2 out of 9 runs (104 seconds remaining)\n",
      "Computing run 3 out of 9 runs (173 seconds remaining)\n",
      "Computing run 4 out of 9 runs (138 seconds remaining)\n",
      "Computing run 5 out of 9 runs (105 seconds remaining)\n",
      "Computing run 6 out of 9 runs (80 seconds remaining)\n",
      "Computing run 7 out of 9 runs (58 seconds remaining)\n",
      "Computing run 8 out of 9 runs (37 seconds remaining)\n",
      "Computing run 9 out of 9 runs (18 seconds remaining)\n",
      "\n",
      "Computation of 9 runs done in 163 seconds\n",
      "\n"
     ]
    },
    {
     "name": "stdout",
     "output_type": "stream",
     "text": [
      "openNeuro_LPP/english/subj098\n"
     ]
    },
    {
     "name": "stderr",
     "output_type": "stream",
     "text": [
      "Computing run 1 out of 9 runs (go take a coffee, a big one)\n",
      "Computing run 2 out of 9 runs (103 seconds remaining)\n",
      "Computing run 3 out of 9 runs (99 seconds remaining)\n",
      "Computing run 4 out of 9 runs (113 seconds remaining)\n",
      "Computing run 5 out of 9 runs (89 seconds remaining)\n",
      "Computing run 6 out of 9 runs (68 seconds remaining)\n",
      "Computing run 7 out of 9 runs (51 seconds remaining)\n",
      "Computing run 8 out of 9 runs (33 seconds remaining)\n",
      "Computing run 9 out of 9 runs (16 seconds remaining)\n",
      "\n",
      "Computation of 9 runs done in 149 seconds\n",
      "\n"
     ]
    },
    {
     "name": "stdout",
     "output_type": "stream",
     "text": [
      "openNeuro_LPP/english/subj099\n"
     ]
    },
    {
     "name": "stderr",
     "output_type": "stream",
     "text": [
      "Computing run 1 out of 9 runs (go take a coffee, a big one)\n",
      "Computing run 2 out of 9 runs (101 seconds remaining)\n",
      "Computing run 3 out of 9 runs (124 seconds remaining)\n",
      "Computing run 4 out of 9 runs (124 seconds remaining)\n",
      "Computing run 5 out of 9 runs (95 seconds remaining)\n",
      "Computing run 6 out of 9 runs (73 seconds remaining)\n",
      "Computing run 7 out of 9 runs (54 seconds remaining)\n",
      "Computing run 8 out of 9 runs (35 seconds remaining)\n",
      "Computing run 9 out of 9 runs (17 seconds remaining)\n",
      "\n",
      "Computation of 9 runs done in 152 seconds\n",
      "\n"
     ]
    },
    {
     "name": "stdout",
     "output_type": "stream",
     "text": [
      "openNeuro_LPP/english/subj100\n"
     ]
    },
    {
     "name": "stderr",
     "output_type": "stream",
     "text": [
      "Computing run 1 out of 9 runs (go take a coffee, a big one)\n",
      "Computing run 2 out of 9 runs (98 seconds remaining)\n",
      "Computing run 3 out of 9 runs (90 seconds remaining)\n",
      "Computing run 4 out of 9 runs (80 seconds remaining)\n",
      "Computing run 5 out of 9 runs (67 seconds remaining)\n",
      "Computing run 6 out of 9 runs (52 seconds remaining)\n",
      "Computing run 7 out of 9 runs (40 seconds remaining)\n",
      "Computing run 8 out of 9 runs (27 seconds remaining)\n",
      "Computing run 9 out of 9 runs (13 seconds remaining)\n",
      "\n",
      "Computation of 9 runs done in 123 seconds\n",
      "\n"
     ]
    },
    {
     "name": "stdout",
     "output_type": "stream",
     "text": [
      "openNeuro_LPP/english/subj101\n"
     ]
    },
    {
     "name": "stderr",
     "output_type": "stream",
     "text": [
      "Computing run 1 out of 9 runs (go take a coffee, a big one)\n",
      "Computing run 2 out of 9 runs (94 seconds remaining)\n",
      "Computing run 3 out of 9 runs (86 seconds remaining)\n",
      "Computing run 4 out of 9 runs (77 seconds remaining)\n",
      "Computing run 5 out of 9 runs (65 seconds remaining)\n",
      "Computing run 6 out of 9 runs (51 seconds remaining)\n",
      "Computing run 7 out of 9 runs (39 seconds remaining)\n",
      "Computing run 8 out of 9 runs (26 seconds remaining)\n",
      "Computing run 9 out of 9 runs (13 seconds remaining)\n",
      "\n",
      "Computation of 9 runs done in 120 seconds\n",
      "\n"
     ]
    },
    {
     "name": "stdout",
     "output_type": "stream",
     "text": [
      "openNeuro_LPP/english/subj103\n"
     ]
    },
    {
     "name": "stderr",
     "output_type": "stream",
     "text": [
      "Computing run 1 out of 9 runs (go take a coffee, a big one)\n",
      "Computing run 2 out of 9 runs (99 seconds remaining)\n",
      "Computing run 3 out of 9 runs (89 seconds remaining)\n",
      "Computing run 4 out of 9 runs (80 seconds remaining)\n",
      "Computing run 5 out of 9 runs (68 seconds remaining)\n",
      "Computing run 6 out of 9 runs (53 seconds remaining)\n",
      "Computing run 7 out of 9 runs (41 seconds remaining)\n",
      "Computing run 8 out of 9 runs (27 seconds remaining)\n",
      "Computing run 9 out of 9 runs (13 seconds remaining)\n",
      "\n",
      "Computation of 9 runs done in 126 seconds\n",
      "\n"
     ]
    },
    {
     "name": "stdout",
     "output_type": "stream",
     "text": [
      "openNeuro_LPP/english/subj104\n"
     ]
    },
    {
     "name": "stderr",
     "output_type": "stream",
     "text": [
      "Computing run 1 out of 9 runs (go take a coffee, a big one)\n",
      "Computing run 2 out of 9 runs (94 seconds remaining)\n",
      "Computing run 3 out of 9 runs (87 seconds remaining)\n",
      "Computing run 4 out of 9 runs (77 seconds remaining)\n",
      "Computing run 5 out of 9 runs (65 seconds remaining)\n",
      "Computing run 6 out of 9 runs (51 seconds remaining)\n",
      "Computing run 7 out of 9 runs (42 seconds remaining)\n",
      "Computing run 8 out of 9 runs (28 seconds remaining)\n",
      "Computing run 9 out of 9 runs (13 seconds remaining)\n",
      "\n",
      "Computation of 9 runs done in 125 seconds\n",
      "\n"
     ]
    },
    {
     "name": "stdout",
     "output_type": "stream",
     "text": [
      "openNeuro_LPP/english/subj105\n"
     ]
    },
    {
     "name": "stderr",
     "output_type": "stream",
     "text": [
      "Computing run 1 out of 9 runs (go take a coffee, a big one)\n",
      "Computing run 2 out of 9 runs (96 seconds remaining)\n",
      "Computing run 3 out of 9 runs (94 seconds remaining)\n",
      "Computing run 4 out of 9 runs (87 seconds remaining)\n",
      "Computing run 5 out of 9 runs (71 seconds remaining)\n",
      "Computing run 6 out of 9 runs (56 seconds remaining)\n",
      "Computing run 7 out of 9 runs (43 seconds remaining)\n",
      "Computing run 8 out of 9 runs (29 seconds remaining)\n",
      "Computing run 9 out of 9 runs (14 seconds remaining)\n",
      "\n",
      "Computation of 9 runs done in 137 seconds\n",
      "\n"
     ]
    },
    {
     "name": "stdout",
     "output_type": "stream",
     "text": [
      "openNeuro_LPP/english/subj106\n"
     ]
    },
    {
     "name": "stderr",
     "output_type": "stream",
     "text": [
      "Computing run 1 out of 9 runs (go take a coffee, a big one)\n",
      "Computing run 2 out of 9 runs (109 seconds remaining)\n",
      "Computing run 3 out of 9 runs (109 seconds remaining)\n",
      "Computing run 4 out of 9 runs (95 seconds remaining)\n",
      "Computing run 5 out of 9 runs (78 seconds remaining)\n",
      "Computing run 6 out of 9 runs (61 seconds remaining)\n",
      "Computing run 7 out of 9 runs (47 seconds remaining)\n",
      "Computing run 8 out of 9 runs (31 seconds remaining)\n",
      "Computing run 9 out of 9 runs (15 seconds remaining)\n",
      "\n",
      "Computation of 9 runs done in 144 seconds\n",
      "\n"
     ]
    },
    {
     "name": "stdout",
     "output_type": "stream",
     "text": [
      "openNeuro_LPP/english/subj108\n"
     ]
    },
    {
     "name": "stderr",
     "output_type": "stream",
     "text": [
      "Computing run 1 out of 9 runs (go take a coffee, a big one)\n",
      "Computing run 2 out of 9 runs (110 seconds remaining)\n",
      "Computing run 3 out of 9 runs (119 seconds remaining)\n",
      "Computing run 4 out of 9 runs (126 seconds remaining)\n",
      "Computing run 5 out of 9 runs (105 seconds remaining)\n",
      "Computing run 6 out of 9 runs (80 seconds remaining)\n",
      "Computing run 7 out of 9 runs (58 seconds remaining)\n",
      "Computing run 8 out of 9 runs (38 seconds remaining)\n",
      "Computing run 9 out of 9 runs (18 seconds remaining)\n",
      "\n",
      "Computation of 9 runs done in 168 seconds\n",
      "\n"
     ]
    },
    {
     "name": "stdout",
     "output_type": "stream",
     "text": [
      "openNeuro_LPP/english/subj109\n"
     ]
    },
    {
     "name": "stderr",
     "output_type": "stream",
     "text": [
      "Computing run 1 out of 9 runs (go take a coffee, a big one)\n",
      "Computing run 2 out of 9 runs (111 seconds remaining)\n",
      "Computing run 3 out of 9 runs (98 seconds remaining)\n",
      "Computing run 4 out of 9 runs (107 seconds remaining)\n",
      "Computing run 5 out of 9 runs (87 seconds remaining)\n",
      "Computing run 6 out of 9 runs (69 seconds remaining)\n",
      "Computing run 7 out of 9 runs (53 seconds remaining)\n",
      "Computing run 8 out of 9 runs (35 seconds remaining)\n",
      "Computing run 9 out of 9 runs (17 seconds remaining)\n",
      "\n",
      "Computation of 9 runs done in 159 seconds\n",
      "\n"
     ]
    },
    {
     "name": "stdout",
     "output_type": "stream",
     "text": [
      "openNeuro_LPP/english/subj110\n"
     ]
    },
    {
     "name": "stderr",
     "output_type": "stream",
     "text": [
      "Computing run 1 out of 9 runs (go take a coffee, a big one)\n",
      "Computing run 2 out of 9 runs (110 seconds remaining)\n",
      "Computing run 3 out of 9 runs (106 seconds remaining)\n",
      "Computing run 4 out of 9 runs (94 seconds remaining)\n",
      "Computing run 5 out of 9 runs (81 seconds remaining)\n",
      "Computing run 6 out of 9 runs (64 seconds remaining)\n",
      "Computing run 7 out of 9 runs (49 seconds remaining)\n",
      "Computing run 8 out of 9 runs (33 seconds remaining)\n",
      "Computing run 9 out of 9 runs (16 seconds remaining)\n",
      "\n",
      "Computation of 9 runs done in 149 seconds\n",
      "\n"
     ]
    },
    {
     "name": "stdout",
     "output_type": "stream",
     "text": [
      "openNeuro_LPP/english/subj113\n"
     ]
    },
    {
     "name": "stderr",
     "output_type": "stream",
     "text": [
      "Computing run 1 out of 9 runs (go take a coffee, a big one)\n",
      "Computing run 2 out of 9 runs (116 seconds remaining)\n",
      "Computing run 3 out of 9 runs (105 seconds remaining)\n",
      "Computing run 4 out of 9 runs (94 seconds remaining)\n",
      "Computing run 5 out of 9 runs (80 seconds remaining)\n",
      "Computing run 6 out of 9 runs (62 seconds remaining)\n",
      "Computing run 7 out of 9 runs (47 seconds remaining)\n",
      "Computing run 8 out of 9 runs (32 seconds remaining)\n",
      "Computing run 9 out of 9 runs (16 seconds remaining)\n",
      "\n",
      "Computation of 9 runs done in 146 seconds\n",
      "\n"
     ]
    },
    {
     "name": "stdout",
     "output_type": "stream",
     "text": [
      "openNeuro_LPP/english/subj114\n"
     ]
    },
    {
     "name": "stderr",
     "output_type": "stream",
     "text": [
      "Computing run 1 out of 9 runs (go take a coffee, a big one)\n",
      "Computing run 2 out of 9 runs (109 seconds remaining)\n",
      "Computing run 3 out of 9 runs (102 seconds remaining)\n",
      "Computing run 4 out of 9 runs (90 seconds remaining)\n",
      "Computing run 5 out of 9 runs (75 seconds remaining)\n",
      "Computing run 6 out of 9 runs (59 seconds remaining)\n",
      "Computing run 7 out of 9 runs (44 seconds remaining)\n",
      "Computing run 8 out of 9 runs (30 seconds remaining)\n",
      "Computing run 9 out of 9 runs (15 seconds remaining)\n",
      "\n",
      "Computation of 9 runs done in 135 seconds\n",
      "\n"
     ]
    },
    {
     "name": "stdout",
     "output_type": "stream",
     "text": [
      "openNeuro_LPP/english/subj115\n"
     ]
    },
    {
     "name": "stderr",
     "output_type": "stream",
     "text": [
      "Computing run 1 out of 9 runs (go take a coffee, a big one)\n",
      "Computing run 2 out of 9 runs (93 seconds remaining)\n",
      "Computing run 3 out of 9 runs (87 seconds remaining)\n",
      "Computing run 4 out of 9 runs (77 seconds remaining)\n",
      "Computing run 5 out of 9 runs (64 seconds remaining)\n",
      "Computing run 6 out of 9 runs (50 seconds remaining)\n",
      "Computing run 7 out of 9 runs (39 seconds remaining)\n",
      "Computing run 8 out of 9 runs (26 seconds remaining)\n",
      "Computing run 9 out of 9 runs (13 seconds remaining)\n",
      "\n",
      "Computation of 9 runs done in 118 seconds\n",
      "\n"
     ]
    }
   ],
   "source": [
    "for i in range(len(english_subjects)):\n",
    "#for i in range(1):\n",
    "    try:\n",
    "        print(english_subjects[i])\n",
    "\n",
    "        english_glm = FirstLevelModel(\n",
    "                    t_r = 2.0,\n",
    "                    hrf_model='spm',\n",
    "                    noise_model='ar1',\n",
    "                    smoothing_fwhm=None,\n",
    "                    n_jobs=1,\n",
    "                    standardize=True,\n",
    "                    verbose=1\n",
    "                    )\n",
    "        english_glm = english_glm.fit(natsorted(glob.glob(f\"{english_subjects[i]}/*\")),\n",
    "                                     design_matrices=english_design_matrices)\n",
    "\n",
    "        word_rate_eff_map = english_glm.compute_contrast(contrast_def='word_rate',output_type='effect_size')\n",
    "        word_rate_eff_map.to_filename(f\"/scratch/dgd45125/openNeuro_LPP/first_level_maps/english/subj{i}_word_rate.nii.gz\")\n",
    "\n",
    "        rms_eff_map = english_glm.compute_contrast(contrast_def='rms',output_type='effect_size')\n",
    "        rms_eff_map.to_filename(f\"/scratch/dgd45125/openNeuro_LPP/first_level_maps/english/subj{i}_rms.nii.gz\")\n",
    "\n",
    "        f0_eff_map = english_glm.compute_contrast(contrast_def='f0',output_type='effect_size')\n",
    "        f0_eff_map.to_filename(f\"/scratch/dgd45125/openNeuro_LPP/first_level_maps/english/subj{i}_f0.nii.gz\")\n",
    "\n",
    "        \n",
    "        freq_eff_map = english_glm.compute_contrast(contrast_def='freq',output_type='effect_size')\n",
    "        freq_eff_map.to_filename(f\"/scratch/dgd45125/openNeuro_LPP/first_level_maps/english/subj{i}_freq.nii.gz\")\n",
    "\n",
    "        bottomUp_eff_map = english_glm.compute_contrast(contrast_def='projective_bottomup',output_type='effect_size')\n",
    "        bottomUp_eff_map.to_filename(f\"/scratch/dgd45125/openNeuro_LPP/first_level_maps/english/subj{i}_bottomUp.nii.gz\")\n",
    "\n",
    "        \n",
    "        english_surprisal_eff_map = english_glm.compute_contrast(contrast_def='gpt2_surprisal',output_type='effect_size')\n",
    "        english_surprisal_eff_map.to_filename(f\"/scratch/dgd45125/openNeuro_LPP/first_level_maps/english/subj{i}english_surprisal.nii.gz\")\n",
    "\n",
    "        \n",
    "        obj_relatives_eff_map = english_glm.compute_contrast(contrast_def='obj_relatives',output_type='effect_size')\n",
    "        obj_relatives_eff_map.to_filename(f\"/scratch/dgd45125/openNeuro_LPP/first_level_maps/english/subj{i}_obj_relatives_eff.nii.gz\")\n",
    "        \n",
    "        \n",
    "    except:\n",
    "        print(\"something went wrong\")"
   ]
  },
  {
   "cell_type": "code",
   "execution_count": null,
   "id": "4d3e9379",
   "metadata": {},
   "outputs": [],
   "source": []
  },
  {
   "cell_type": "code",
   "execution_count": null,
   "id": "8a16f900",
   "metadata": {},
   "outputs": [],
   "source": []
  },
  {
   "cell_type": "code",
   "execution_count": null,
   "id": "a6f8e3f1",
   "metadata": {},
   "outputs": [],
   "source": []
  }
 ],
 "metadata": {
  "kernelspec": {
   "display_name": "Python 3 (ipykernel)",
   "language": "python",
   "name": "python3"
  },
  "language_info": {
   "codemirror_mode": {
    "name": "ipython",
    "version": 3
   },
   "file_extension": ".py",
   "mimetype": "text/x-python",
   "name": "python",
   "nbconvert_exporter": "python",
   "pygments_lexer": "ipython3",
   "version": "3.10.9"
  }
 },
 "nbformat": 4,
 "nbformat_minor": 5
}
